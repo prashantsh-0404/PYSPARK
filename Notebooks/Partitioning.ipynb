{
 "cells": [
  {
   "cell_type": "code",
   "execution_count": 1,
   "id": "097dcf12-dbf2-486d-8c0f-1fbd3951c6c9",
   "metadata": {},
   "outputs": [
    {
     "data": {
      "text/plain": [
       "Intitializing Scala interpreter ..."
      ]
     },
     "metadata": {},
     "output_type": "display_data"
    },
    {
     "data": {
      "text/plain": [
       "Spark Web UI available at http://localhost:4040\n",
       "SparkContext available as 'sc' (version = 3.5.0, master = local[*], app id = local-1708142837502)\n",
       "SparkSession available as 'spark'\n"
      ]
     },
     "metadata": {},
     "output_type": "display_data"
    },
    {
     "ename": "<console>",
     "evalue": "2: error: . expected",
     "output_type": "error",
     "traceback": [
      "<console>:2: error: . expected",
      "       import pyspark",
      "                     ^",
      "<console>:3: error: ';' expected but '.' found.",
      "       from pyspark.sql import SparkSession",
      "                   ^",
      "<console>:4: error: unclosed character literal (or use \" not ' for string literal)",
      "       spark = SparkSession.builder.appName('SparkByExamples.com') \\",
      "                                                                ^",
      ""
     ]
    }
   ],
   "source": [
    "import pyspark\n",
    "from pyspark.sql import SparkSession\n",
    "spark = SparkSession.builder.appName('SparkByExamples.com') \\\n",
    "        .master(\"local[5]\").getOrCreate()"
   ]
  },
  {
   "cell_type": "code",
   "execution_count": 4,
   "id": "4d9e668b-c1fa-448c-8b4e-3d88c6ae3c18",
   "metadata": {},
   "outputs": [
    {
     "name": "stdout",
     "output_type": "stream",
     "text": [
      "5\n"
     ]
    }
   ],
   "source": [
    "df = spark.range(0,20)\n",
    "print(df.rdd.getNumPartitions())"
   ]
  },
  {
   "cell_type": "code",
   "execution_count": 3,
   "id": "9d6f9ee1-f1ac-4057-881e-78ece368afe1",
   "metadata": {},
   "outputs": [],
   "source": [
    "spark.conf.set(\"spark.sql.shuffle.partitions\", \"500\")"
   ]
  },
  {
   "cell_type": "code",
   "execution_count": 2,
   "id": "151f4b33-ffe5-440d-9c9c-f4da4d3cf313",
   "metadata": {},
   "outputs": [
    {
     "ename": "<console>",
     "evalue": "2: error: . expected",
     "output_type": "error",
     "traceback": [
      "<console>:2: error: . expected",
      "       import spark",
      "                   ^",
      ""
     ]
    }
   ],
   "source": [
    "import spark\n",
    "\n",
    "val rdd = spark.sparkContext.parallelize((0,20))\n",
    "print(\"From local[5]\"+rdd.getNumPartitions())"
   ]
  },
  {
   "cell_type": "code",
   "execution_count": null,
   "id": "31bd6461-53b2-45b2-bec3-8676b974be7d",
   "metadata": {},
   "outputs": [],
   "source": []
  }
 ],
 "metadata": {
  "kernelspec": {
   "display_name": "spylon-kernel",
   "language": "scala",
   "name": "spylon-kernel"
  },
  "language_info": {
   "codemirror_mode": "text/x-scala",
   "file_extension": ".scala",
   "help_links": [
    {
     "text": "MetaKernel Magics",
     "url": "https://metakernel.readthedocs.io/en/latest/source/README.html"
    }
   ],
   "mimetype": "text/x-scala",
   "name": "scala",
   "pygments_lexer": "scala",
   "version": "0.4.1"
  }
 },
 "nbformat": 4,
 "nbformat_minor": 5
}
