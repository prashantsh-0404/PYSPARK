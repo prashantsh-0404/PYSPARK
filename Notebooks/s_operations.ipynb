{
 "cells": [
  {
   "cell_type": "code",
   "execution_count": 38,
   "id": "a035c181-64a3-4d71-8133-89637b24589e",
   "metadata": {},
   "outputs": [
    {
     "data": {
      "text/plain": [
       "import spark.sql\n"
      ]
     },
     "execution_count": 38,
     "metadata": {},
     "output_type": "execute_result"
    }
   ],
   "source": [
    "import spark.sql"
   ]
  },
  {
   "cell_type": "code",
   "execution_count": 2,
   "id": "1a6ca454-6333-4c8f-b1b7-cec3963ee09d",
   "metadata": {},
   "outputs": [
    {
     "data": {
      "text/plain": [
       "ds1: org.apache.spark.sql.Dataset[Long] = [id: bigint]\n",
       "ds2: org.apache.spark.sql.Dataset[Long] = [id: bigint]\n",
       "ds3: org.apache.spark.sql.Dataset[Long] = [id: bigint]\n",
       "ds4: org.apache.spark.sql.Dataset[Long] = [id: bigint]\n"
      ]
     },
     "execution_count": 2,
     "metadata": {},
     "output_type": "execute_result"
    }
   ],
   "source": [
    "val ds1 = spark.range(1, 10000000) \n",
    "val ds2 = spark.range(1, 10000000, 2) \n",
    "val ds3 = ds1.repartition(7) \n",
    "val ds4 = ds2.repartition(9) "
   ]
  },
  {
   "cell_type": "code",
   "execution_count": 13,
   "id": "7d7ca917-66e0-4cd1-91c4-d69c36f81c2f",
   "metadata": {},
   "outputs": [
    {
     "data": {
      "text/plain": [
       "ds5: org.apache.spark.sql.DataFrame = [id: bigint]\n",
       "joined: org.apache.spark.sql.DataFrame = [id: bigint]\n",
       "sum: org.apache.spark.sql.DataFrame = [sum(id): bigint]\n"
      ]
     },
     "execution_count": 13,
     "metadata": {},
     "output_type": "execute_result"
    }
   ],
   "source": [
    "val ds5 = ds3.selectExpr(\"id * 5 as id\")\n",
    "val joined = ds5.join(ds4, \"id\") \n",
    "val sum = joined.selectExpr(\"sum(id)\")"
   ]
  },
  {
   "cell_type": "code",
   "execution_count": 17,
   "id": "9730c794-5be2-4bfd-8698-2c511f1909d3",
   "metadata": {},
   "outputs": [
    {
     "name": "stdout",
     "output_type": "stream",
     "text": [
      "== Parsed Logical Plan ==\n",
      "'Project [unresolvedalias('sum('id), Some(org.apache.spark.sql.Column$$Lambda$2846/1276057405@5298607))]\n",
      "+- Project [id#20L]\n",
      "   +- Join Inner, (id#20L = id#2L)\n",
      "      :- Project [(id#0L * cast(5 as bigint)) AS id#20L]\n",
      "      :  +- Repartition 7, true\n",
      "      :     +- Range (1, 10000000, step=1, splits=Some(4))\n",
      "      +- Repartition 9, true\n",
      "         +- Range (1, 10000000, step=2, splits=Some(4))\n",
      "\n",
      "== Analyzed Logical Plan ==\n",
      "sum(id): bigint\n",
      "Aggregate [sum(id#20L) AS sum(id)#24L]\n",
      "+- Project [id#20L]\n",
      "   +- Join Inner, (id#20L = id#2L)\n",
      "      :- Project [(id#0L * cast(5 as bigint)) AS id#20L]\n",
      "      :  +- Repartition 7, true\n",
      "      :     +- Range (1, 10000000, step=1, splits=Some(4))\n",
      "      +- Repartition 9, true\n",
      "         +- Range (1, 10000000, step=2, splits=Some(4))\n",
      "\n",
      "== Optimized Logical Plan ==\n",
      "Aggregate [sum(id#20L) AS sum(id)#24L]\n",
      "+- Project [id#20L]\n",
      "   +- Join Inner, (id#20L = id#2L)\n",
      "      :- Project [(id#0L * 5) AS id#20L]\n",
      "      :  +- Repartition 7, true\n",
      "      :     +- Range (1, 10000000, step=1, splits=Some(4))\n",
      "      +- Repartition 9, true\n",
      "         +- Range (1, 10000000, step=2, splits=Some(4))\n",
      "\n",
      "== Physical Plan ==\n",
      "AdaptiveSparkPlan isFinalPlan=false\n",
      "+- HashAggregate(keys=[], functions=[sum(id#20L)], output=[sum(id)#24L])\n",
      "   +- Exchange SinglePartition, ENSURE_REQUIREMENTS, [plan_id=102]\n",
      "      +- HashAggregate(keys=[], functions=[partial_sum(id#20L)], output=[sum#27L])\n",
      "         +- Project [id#20L]\n",
      "            +- SortMergeJoin [id#20L], [id#2L], Inner\n",
      "               :- Sort [id#20L ASC NULLS FIRST], false, 0\n",
      "               :  +- Exchange hashpartitioning(id#20L, 200), ENSURE_REQUIREMENTS, [plan_id=94]\n",
      "               :     +- Project [(id#0L * 5) AS id#20L]\n",
      "               :        +- Exchange RoundRobinPartitioning(7), REPARTITION_BY_NUM, [plan_id=84]\n",
      "               :           +- Range (1, 10000000, step=1, splits=4)\n",
      "               +- Sort [id#2L ASC NULLS FIRST], false, 0\n",
      "                  +- Exchange hashpartitioning(id#2L, 200), ENSURE_REQUIREMENTS, [plan_id=95]\n",
      "                     +- Exchange RoundRobinPartitioning(9), REPARTITION_BY_NUM, [plan_id=87]\n",
      "                        +- Range (1, 10000000, step=2, splits=4)\n",
      "\n"
     ]
    }
   ],
   "source": [
    " sum.explain(extended = true)"
   ]
  },
  {
   "cell_type": "code",
   "execution_count": 21,
   "id": "4d3b4f43-e596-4599-9358-b03ec6ca5881",
   "metadata": {},
   "outputs": [
    {
     "name": "stdout",
     "output_type": "stream",
     "text": [
      "+-------------+\n",
      "|      sum(id)|\n",
      "+-------------+\n",
      "|5000000000000|\n",
      "+-------------+\n",
      "\n"
     ]
    }
   ],
   "source": [
    "sum.show(5)"
   ]
  },
  {
   "cell_type": "code",
   "execution_count": 23,
   "id": "322f397a-3590-49e4-9323-c479a910305d",
   "metadata": {},
   "outputs": [
    {
     "name": "stdout",
     "output_type": "stream",
     "text": [
      "== Physical Plan ==\n",
      "AdaptiveSparkPlan (15)\n",
      "+- HashAggregate (14)\n",
      "   +- Exchange (13)\n",
      "      +- HashAggregate (12)\n",
      "         +- Project (11)\n",
      "            +- SortMergeJoin Inner (10)\n",
      "               :- Sort (5)\n",
      "               :  +- Exchange (4)\n",
      "               :     +- Project (3)\n",
      "               :        +- Exchange (2)\n",
      "               :           +- Range (1)\n",
      "               +- Sort (9)\n",
      "                  +- Exchange (8)\n",
      "                     +- Exchange (7)\n",
      "                        +- Range (6)\n",
      "\n",
      "\n",
      "(1) Range\n",
      "Output [1]: [id#0L]\n",
      "Arguments: Range (1, 10000000, step=1, splits=Some(4))\n",
      "\n",
      "(2) Exchange\n",
      "Input [1]: [id#0L]\n",
      "Arguments: RoundRobinPartitioning(7), REPARTITION_BY_NUM, [plan_id=84]\n",
      "\n",
      "(3) Project\n",
      "Output [1]: [(id#0L * 5) AS id#20L]\n",
      "Input [1]: [id#0L]\n",
      "\n",
      "(4) Exchange\n",
      "Input [1]: [id#20L]\n",
      "Arguments: hashpartitioning(id#20L, 200), ENSURE_REQUIREMENTS, [plan_id=94]\n",
      "\n",
      "(5) Sort\n",
      "Input [1]: [id#20L]\n",
      "Arguments: [id#20L ASC NULLS FIRST], false, 0\n",
      "\n",
      "(6) Range\n",
      "Output [1]: [id#2L]\n",
      "Arguments: Range (1, 10000000, step=2, splits=Some(4))\n",
      "\n",
      "(7) Exchange\n",
      "Input [1]: [id#2L]\n",
      "Arguments: RoundRobinPartitioning(9), REPARTITION_BY_NUM, [plan_id=87]\n",
      "\n",
      "(8) Exchange\n",
      "Input [1]: [id#2L]\n",
      "Arguments: hashpartitioning(id#2L, 200), ENSURE_REQUIREMENTS, [plan_id=95]\n",
      "\n",
      "(9) Sort\n",
      "Input [1]: [id#2L]\n",
      "Arguments: [id#2L ASC NULLS FIRST], false, 0\n",
      "\n",
      "(10) SortMergeJoin\n",
      "Left keys [1]: [id#20L]\n",
      "Right keys [1]: [id#2L]\n",
      "Join type: Inner\n",
      "Join condition: None\n",
      "\n",
      "(11) Project\n",
      "Output [1]: [id#20L]\n",
      "Input [2]: [id#20L, id#2L]\n",
      "\n",
      "(12) HashAggregate\n",
      "Input [1]: [id#20L]\n",
      "Keys: []\n",
      "Functions [1]: [partial_sum(id#20L)]\n",
      "Aggregate Attributes [1]: [sum#26L]\n",
      "Results [1]: [sum#27L]\n",
      "\n",
      "(13) Exchange\n",
      "Input [1]: [sum#27L]\n",
      "Arguments: SinglePartition, ENSURE_REQUIREMENTS, [plan_id=102]\n",
      "\n",
      "(14) HashAggregate\n",
      "Input [1]: [sum#27L]\n",
      "Keys: []\n",
      "Functions [1]: [sum(id#20L)]\n",
      "Aggregate Attributes [1]: [sum(id#20L)#23L]\n",
      "Results [1]: [sum(id#20L)#23L AS sum(id)#24L]\n",
      "\n",
      "(15) AdaptiveSparkPlan\n",
      "Output [1]: [sum(id)#24L]\n",
      "Arguments: isFinalPlan=false\n",
      "\n",
      "\n"
     ]
    }
   ],
   "source": [
    "sum.explain(mode=\"formatted\")"
   ]
  },
  {
   "cell_type": "code",
   "execution_count": 66,
   "id": "f204c342-ebf0-47aa-8d13-13af57b9ee03",
   "metadata": {},
   "outputs": [],
   "source": [
    "spark.conf.set(\"spark.sql.inMemoryColumnarStorage.compressed\",false);"
   ]
  },
  {
   "cell_type": "code",
   "execution_count": 48,
   "id": "46532768-9d00-4721-8092-149714105210",
   "metadata": {},
   "outputs": [
    {
     "data": {
      "text/plain": [
       "res17: String = SET spark.sql.inMemoryColumnarStorage.compressed=false\n"
      ]
     },
     "execution_count": 48,
     "metadata": {},
     "output_type": "execute_result"
    }
   ],
   "source": [
    "spark.conf.get(\"spark.sql.inMemoryColumnarStorage.compressed\")"
   ]
  },
  {
   "cell_type": "code",
   "execution_count": 68,
   "id": "ea9432d4-1442-4c9b-8f51-8db5e971c858",
   "metadata": {},
   "outputs": [],
   "source": [
    "spark.conf.set(\"spark.sql.inMemoryColumnarStorage.compressed\",true)"
   ]
  },
  {
   "cell_type": "code",
   "execution_count": 90,
   "id": "aee1060d-10d5-4eaa-a9f8-2d2adb695071",
   "metadata": {},
   "outputs": [
    {
     "ename": "<console>",
     "evalue": "2: error: ';' expected but 'import' found.",
     "output_type": "error",
     "traceback": [
      "<console>:2: error: ';' expected but 'import' found.",
      "       from spark import SparkConf",
      "                  ^",
      ""
     ]
    }
   ],
   "source": [
    "from spark import SparkConf\n",
    "conf = SparkConf()\n",
    "conf.get(\"spark.sql.serializer\")"
   ]
  },
  {
   "cell_type": "code",
   "execution_count": null,
   "id": "8e5bf8c7-092e-4e2e-8034-877a9573cdbb",
   "metadata": {},
   "outputs": [],
   "source": []
  }
 ],
 "metadata": {
  "kernelspec": {
   "display_name": "spylon-kernel",
   "language": "scala",
   "name": "spylon-kernel"
  },
  "language_info": {
   "codemirror_mode": "text/x-scala",
   "file_extension": ".scala",
   "help_links": [
    {
     "text": "MetaKernel Magics",
     "url": "https://metakernel.readthedocs.io/en/latest/source/README.html"
    }
   ],
   "mimetype": "text/x-scala",
   "name": "scala",
   "pygments_lexer": "scala",
   "version": "0.4.1"
  }
 },
 "nbformat": 4,
 "nbformat_minor": 5
}
