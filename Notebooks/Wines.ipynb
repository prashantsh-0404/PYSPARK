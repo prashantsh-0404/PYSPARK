{
 "cells": [
  {
   "cell_type": "code",
   "execution_count": 5,
   "id": "17b29f4f-1a9b-4f79-8c75-2272123988da",
   "metadata": {},
   "outputs": [],
   "source": [
    "import pyspark"
   ]
  },
  {
   "cell_type": "code",
   "execution_count": 6,
   "id": "2789aba3-20b7-4874-8289-2eb021b136ee",
   "metadata": {},
   "outputs": [],
   "source": [
    "from pyspark.sql.functions import split,col"
   ]
  },
  {
   "cell_type": "code",
   "execution_count": 7,
   "id": "d6f92be6-938d-4eed-af57-960d3938f491",
   "metadata": {},
   "outputs": [
    {
     "name": "stderr",
     "output_type": "stream",
     "text": [
      "Setting default log level to \"WARN\".\n",
      "To adjust logging level use sc.setLogLevel(newLevel). For SparkR, use setLogLevel(newLevel).\n",
      "24/02/16 22:51:26 WARN NativeCodeLoader: Unable to load native-hadoop library for your platform... using builtin-java classes where applicable\n",
      "24/02/16 22:51:27 WARN Utils: Service 'SparkUI' could not bind on port 4040. Attempting port 4041.\n",
      "24/02/16 22:51:27 WARN Utils: Service 'SparkUI' could not bind on port 4041. Attempting port 4042.\n",
      "24/02/16 22:51:27 WARN Utils: Service 'SparkUI' could not bind on port 4042. Attempting port 4043.\n",
      "24/02/16 22:51:27 WARN Utils: Service 'SparkUI' could not bind on port 4043. Attempting port 4044.\n"
     ]
    }
   ],
   "source": [
    "spark = pyspark.sql.SparkSession.builder.getOrCreate()"
   ]
  },
  {
   "cell_type": "code",
   "execution_count": 8,
   "id": "9a173ddf-e1bc-4e8a-8970-a21629bdd0e3",
   "metadata": {},
   "outputs": [
    {
     "name": "stderr",
     "output_type": "stream",
     "text": [
      "                                                                                \r"
     ]
    }
   ],
   "source": [
    "df = spark.read.csv(\"../Datasets/WineDataset.csv\", inferSchema=\"True\", header=\"True\")"
   ]
  },
  {
   "cell_type": "code",
   "execution_count": 9,
   "id": "f93c988b-f53f-4dc6-ac23-e7863ad06965",
   "metadata": {},
   "outputs": [
    {
     "name": "stdout",
     "output_type": "stream",
     "text": [
      "root\n",
      " |-- Title: string (nullable = true)\n",
      " |-- Description: string (nullable = true)\n",
      " |-- Price: string (nullable = true)\n",
      " |-- Capacity: string (nullable = true)\n",
      " |-- Grape: string (nullable = true)\n",
      " |-- Secondary Grape Varieties: string (nullable = true)\n",
      " |-- Closure: string (nullable = true)\n",
      " |-- Country: string (nullable = true)\n",
      " |-- Unit: string (nullable = true)\n",
      " |-- Characteristics: string (nullable = true)\n",
      " |-- Per bottle / case / each: string (nullable = true)\n",
      " |-- Type: string (nullable = true)\n",
      " |-- ABV: string (nullable = true)\n",
      " |-- Region: string (nullable = true)\n",
      " |-- Style: string (nullable = true)\n",
      " |-- Vintage: string (nullable = true)\n",
      " |-- Appellation: string (nullable = true)\n",
      "\n"
     ]
    }
   ],
   "source": [
    "df.printSchema()"
   ]
  },
  {
   "cell_type": "code",
   "execution_count": 29,
   "id": "57eea67c-f738-45ee-b651-a91102b99b85",
   "metadata": {},
   "outputs": [],
   "source": [
    "# Fetch price and store in a new Column \n",
    "\n",
    "df = df.withColumn(\"bottle_price\", split(split(df.Price, \" \")[0], \"£\")[1].cast(\"Float\"))\n"
   ]
  },
  {
   "cell_type": "code",
   "execution_count": 30,
   "id": "0648e576-13f6-48ba-969a-a5cc0ab88e17",
   "metadata": {},
   "outputs": [
    {
     "data": {
      "text/plain": [
       "['Title',\n",
       " 'Description',\n",
       " 'Price',\n",
       " 'Capacity',\n",
       " 'Grape',\n",
       " 'Secondary Grape Varieties',\n",
       " 'Closure',\n",
       " 'Country',\n",
       " 'Unit',\n",
       " 'Characteristics',\n",
       " 'Per bottle / case / each',\n",
       " 'Type',\n",
       " 'ABV',\n",
       " 'Region',\n",
       " 'Style',\n",
       " 'Vintage',\n",
       " 'Appellation',\n",
       " 'bottle_price']"
      ]
     },
     "execution_count": 30,
     "metadata": {},
     "output_type": "execute_result"
    }
   ],
   "source": [
    "df.columns"
   ]
  },
  {
   "cell_type": "code",
   "execution_count": 37,
   "id": "2b6f26ab-1d09-4432-b96a-5d6c356a9f39",
   "metadata": {},
   "outputs": [
    {
     "name": "stderr",
     "output_type": "stream",
     "text": [
      "                                                                                \r"
     ]
    },
    {
     "data": {
      "text/plain": [
       "142"
      ]
     },
     "execution_count": 37,
     "metadata": {},
     "output_type": "execute_result"
    }
   ],
   "source": [
    "# Count of Bottle titles with Null price\n",
    "\n",
    "df.where(df.bottle_price.isNull()).select(col(\"Title\"),col(\"bottle_price\")).distinct().count()"
   ]
  },
  {
   "cell_type": "code",
   "execution_count": 56,
   "id": "72367841-0590-49a2-8614-7a633f2bf1dd",
   "metadata": {},
   "outputs": [],
   "source": [
    "from pyspark.sql.functions import sum, avg, count"
   ]
  },
  {
   "cell_type": "code",
   "execution_count": 110,
   "id": "2031ded7-c785-4e4e-bda5-b25a059dde26",
   "metadata": {},
   "outputs": [
    {
     "name": "stderr",
     "output_type": "stream",
     "text": [
      "[Stage 53:>                                                         (0 + 1) / 1]\r"
     ]
    },
    {
     "name": "stdout",
     "output_type": "stream",
     "text": [
      "+--------------------+--------------------+------------------+\n",
      "|               Grape|                   C|                 p|\n",
      "+--------------------+--------------------+------------------+\n",
      "|                NULL|             Germany|              20.0|\n",
      "|                NULL|                NULL| 73.81333287556966|\n",
      "|                NULL|               Italy| 8.993333180745443|\n",
      "|                NULL|               Spain|13.989999771118164|\n",
      "|                NULL|                 9.8|              NULL|\n",
      "|                NULL|              Mexico|              33.0|\n",
      "|                NULL|        South Africa|16.989999771118164|\n",
      "|                NULL|            Scotland|              80.0|\n",
      "|                NULL|      United Kingdom| 5.989999771118164|\n",
      "| The Wine Advocate.\"|  Cabernet Sauvignon|              NULL|\n",
      "|           a mineral|                75CL|              NULL|\n",
      "| black pepper and...|                75CL|              NULL|\n",
      "| blackcurrant and...|          Pinot Noir|              NULL|\n",
      "| cedar and chocol...|      Cabernet Franc|              NULL|\n",
      "| citrusy characte...|          Chardonnay|              NULL|\n",
      "| firm tannins and...|  Cabernet Sauvignon|              NULL|\n",
      "|        it's a spicy|              1.5LTR|              NULL|\n",
      "| plum and summer ...| and can even be ...|              NULL|\n",
      "| with hints of mi...|     Sauvignon Blanc|              NULL|\n",
      "| yet with light r...| hard cheeses lik...|              NULL|\n",
      "+--------------------+--------------------+------------------+\n",
      "only showing top 20 rows\n",
      "\n"
     ]
    },
    {
     "name": "stderr",
     "output_type": "stream",
     "text": [
      "                                                                                \r"
     ]
    }
   ],
   "source": [
    "# Bottle with max price, average price, sum price\n",
    "\n",
    "df.groupBy(\"Country\",df.Grape).avg(\"bottle_price\").select(df.Grape,df.Country.alias(\"C\"),col(\"avg(bottle_price)\").alias(\"p\")).sort(df.Grape).show()"
   ]
  },
  {
   "cell_type": "code",
   "execution_count": 97,
   "id": "8119bb17-3f59-4b7b-a1cf-5a4d097770c4",
   "metadata": {},
   "outputs": [
    {
     "data": {
      "text/plain": [
       "1410"
      ]
     },
     "execution_count": 97,
     "metadata": {},
     "output_type": "execute_result"
    }
   ],
   "source": [
    "df.select(col(\"Grape\").isNull()).count()"
   ]
  },
  {
   "cell_type": "code",
   "execution_count": 103,
   "id": "bd66c58e-da8c-452e-9507-0c22f860b516",
   "metadata": {},
   "outputs": [
    {
     "data": {
      "text/plain": [
       "1410"
      ]
     },
     "execution_count": 103,
     "metadata": {},
     "output_type": "execute_result"
    }
   ],
   "source": [
    "df.select(df.Grape).count()"
   ]
  },
  {
   "cell_type": "code",
   "execution_count": 111,
   "id": "fe793ae9-370a-462e-8062-c90ef68588e9",
   "metadata": {},
   "outputs": [
    {
     "name": "stdout",
     "output_type": "stream",
     "text": [
      "+-----+\n",
      "|Grape|\n",
      "+-----+\n",
      "| NULL|\n",
      "| NULL|\n",
      "| NULL|\n",
      "| NULL|\n",
      "| NULL|\n",
      "| NULL|\n",
      "| NULL|\n",
      "| NULL|\n",
      "| NULL|\n",
      "| NULL|\n",
      "| NULL|\n",
      "| NULL|\n",
      "| NULL|\n",
      "| NULL|\n",
      "| NULL|\n",
      "| NULL|\n",
      "| NULL|\n",
      "| NULL|\n",
      "| NULL|\n",
      "| NULL|\n",
      "+-----+\n",
      "only showing top 20 rows\n",
      "\n"
     ]
    }
   ],
   "source": [
    "df.sort(\"Grape\",descending=False).select(\"Grape\").show()"
   ]
  },
  {
   "cell_type": "code",
   "execution_count": 113,
   "id": "42696255-bfbb-44a7-84ac-555c5fb2906f",
   "metadata": {},
   "outputs": [
    {
     "name": "stdout",
     "output_type": "stream",
     "text": [
      "+--------------------+\n",
      "|               Grape|\n",
      "+--------------------+\n",
      "|              Shiraz|\n",
      "|Lambrusco Graspar...|\n",
      "|                75CL|\n",
      "|      Sauvignon Gris|\n",
      "|       Feteasca Alba|\n",
      "|            Pinotage|\n",
      "|         Agiorgitiko|\n",
      "| plum and summer ...|\n",
      "|            Dolcetto|\n",
      "|            Loureiro|\n",
      "| citrusy characte...|\n",
      "|               Greco|\n",
      "|            Viognier|\n",
      "|        Nero D'Avola|\n",
      "|          Chardonnay|\n",
      "|           Carménère|\n",
      "|        Black Muscat|\n",
      "|            Sémillon|\n",
      "| cedar and chocol...|\n",
      "|           Castelão |\n",
      "+--------------------+\n",
      "only showing top 20 rows\n",
      "\n"
     ]
    }
   ],
   "source": [
    "df.select(\"Grape\").distinct().show()"
   ]
  },
  {
   "cell_type": "code",
   "execution_count": 115,
   "id": "afd4b081-5448-455c-8086-6d3accb76695",
   "metadata": {},
   "outputs": [
    {
     "name": "stdout",
     "output_type": "stream",
     "text": [
      "+-------+--------------------+-----+\n",
      "|Country|               Title|Grape|\n",
      "+-------+--------------------+-----+\n",
      "|   NULL|Abbotts & Delauna...| NULL|\n",
      "|   NULL|Louis Jadot 'Les ...| NULL|\n",
      "|   NULL|Oyster Bay Sauvig...| NULL|\n",
      "|   NULL|Definition Chabli...| NULL|\n",
      "|   NULL|The Macallan Sher...| NULL|\n",
      "|   NULL|Definition Zinfan...| NULL|\n",
      "|   NULL|Bouvet Ladubay Sa...| NULL|\n",
      "|   NULL|Klein Constantia ...| NULL|\n",
      "|   NULL|The Ned 'Waihopai...| NULL|\n",
      "|   NULL|Peter Lehmann 'Th...| NULL|\n",
      "|   NULL|Villa Maria 'Priv...| NULL|\n",
      "|   NULL|Vilarnau ‘Gaudi’ ...| NULL|\n",
      "|   NULL|The Ned ‘Skyscrap...| NULL|\n",
      "|   NULL|Pardon et Fils Fl...| NULL|\n",
      "|   NULL|La Gioiosa Prosec...| NULL|\n",
      "|   NULL|Rustenberg Cabern...| NULL|\n",
      "|   NULL|LB7 Red 2020/21, ...| NULL|\n",
      "|   NULL|Thierry Delaunay ...| NULL|\n",
      "|   NULL|Nyetimber 'Classi...| NULL|\n",
      "|   NULL|Rosé Classics 6 B...| NULL|\n",
      "+-------+--------------------+-----+\n",
      "only showing top 20 rows\n",
      "\n"
     ]
    }
   ],
   "source": [
    "df.select(\"Country\",\"Title\",\"Grape\").orderBy(\"Grape\").show()"
   ]
  },
  {
   "cell_type": "code",
   "execution_count": 116,
   "id": "18e99ef4-7106-4da4-ae5e-d33f9a11fb65",
   "metadata": {},
   "outputs": [
    {
     "data": {
      "text/plain": [
       "1410"
      ]
     },
     "execution_count": 116,
     "metadata": {},
     "output_type": "execute_result"
    }
   ],
   "source": [
    "df.count()"
   ]
  },
  {
   "cell_type": "code",
   "execution_count": 122,
   "id": "d125f4f0-d7f7-402a-b176-7b54fac48425",
   "metadata": {},
   "outputs": [
    {
     "name": "stdout",
     "output_type": "stream",
     "text": [
      "+--------------------+\n",
      "|             Country|\n",
      "+--------------------+\n",
      "|                75CL|\n",
      "|Petit Verdot, Merlot|\n",
      "|              1.5LTR|\n",
      "| and can even be ...|\n",
      "|            Viognier|\n",
      "|             Germany|\n",
      "|          Chardonnay|\n",
      "|              France|\n",
      "|              Greece|\n",
      "|           Argentina|\n",
      "|               Chile|\n",
      "|               Italy|\n",
      "|          Pinot Noir|\n",
      "|        Natural Cork|\n",
      "|               Spain|\n",
      "|                 9.8|\n",
      "|                 9.4|\n",
      "|                 USA|\n",
      "|              Mexico|\n",
      "|             Georgia|\n",
      "+--------------------+\n",
      "only showing top 20 rows\n",
      "\n"
     ]
    }
   ],
   "source": [
    "df.select(\"Country\").distinct().show()"
   ]
  },
  {
   "cell_type": "code",
   "execution_count": 124,
   "id": "16e91a17-f562-449a-acf4-0579ccc86944",
   "metadata": {},
   "outputs": [],
   "source": [
    "df=df.dropna()"
   ]
  },
  {
   "cell_type": "code",
   "execution_count": 125,
   "id": "6780e6aa-0bf7-463a-a2de-f0391a57d274",
   "metadata": {},
   "outputs": [
    {
     "data": {
      "text/plain": [
       "DataFrame[Title: string, Description: string, Price: string, Capacity: string, Grape: string, Secondary Grape Varieties: string, Closure: string, Country: string, Unit: string, Characteristics: string, Per bottle / case / each: string, Type: string, ABV: string, Region: string, Style: string, Vintage: string, Appellation: string, bottle_price: float]"
      ]
     },
     "execution_count": 125,
     "metadata": {},
     "output_type": "execute_result"
    }
   ],
   "source": [
    "df"
   ]
  },
  {
   "cell_type": "code",
   "execution_count": 126,
   "id": "729f8ea0-71c4-4ce7-9212-cf4128d83089",
   "metadata": {},
   "outputs": [
    {
     "data": {
      "text/plain": [
       "208"
      ]
     },
     "execution_count": 126,
     "metadata": {},
     "output_type": "execute_result"
    }
   ],
   "source": [
    "df.count()"
   ]
  },
  {
   "cell_type": "code",
   "execution_count": 127,
   "id": "8bf9c940-d3fe-4cf0-b7b2-4fae6aff0a45",
   "metadata": {},
   "outputs": [
    {
     "name": "stdout",
     "output_type": "stream",
     "text": [
      "+--------------------+--------------------+-----------------+--------+------------------+-------------------------+--------------+---------+----+--------------------+------------------------+-----+----------+--------------------+--------------------+-------+--------------------+------------+\n",
      "|               Title|         Description|            Price|Capacity|             Grape|Secondary Grape Varieties|       Closure|  Country|Unit|     Characteristics|Per bottle / case / each| Type|       ABV|              Region|               Style|Vintage|         Appellation|bottle_price|\n",
      "+--------------------+--------------------+-----------------+--------+------------------+-------------------------+--------------+---------+----+--------------------+------------------------+-----+----------+--------------------+--------------------+-------+--------------------+------------+\n",
      "|Miraval Rosé 2021...|Miraval shot to f...|£22.99 per bottle|    75CL|          Cinsault|     Syrah, Grenache, ...|  Natural Cork|   France| 9.8|Strawberry, Herba...|              per bottle| Rosé|ABV 13.00%|            Provence|      Delicate & Dry|   2022|   Côtes De Provence|       22.99|\n",
      "|Peyrassol 'Réserv...|La Commanderie de...|£15.99 per bottle|    75CL|          Cinsault|          Syrah, Grenache|  Natural Cork|   France| 9.8|Strawberry, Herba...|              per bottle| Rosé|ABV 13.00%|            Provence|      Delicate & Dry|   2022|   Côtes De Provence|       15.99|\n",
      "|Caves d'Esclans '...|Winemaker Sacha L...|£23.99 per bottle|    75CL|          Grenache|          Rolle, Cinsault|  Natural Cork|   France|10.1|Strawberry, Herba...|              per bottle| Rosé|ABV 13.50%|            Provence|      Delicate & Dry|   2022|   Côtes De Provence|       23.99|\n",
      "|Château de Berne ...|A stunning proper...|£17.99 per bottle|    75CL|          Grenache|          Syrah, Cinsault|  Natural Cork|   France| 9.8|Strawberry, Herba...|              per bottle| Rosé|ABV 13.00%|            Provence|      Delicate & Dry|   2022|   Côtes De Provence|       17.99|\n",
      "|Domaine La Chauta...|Although Provence...|£13.99 per bottle|    75CL|          Grenache|     Syrah, Carignan, ...|      Screwcap|   France| 9.8|Strawberry, Peach...|              per bottle| Rosé|ABV 13.00%|            Provence|      Delicate & Dry|   2022|Coteaux Varois-En...|       13.99|\n",
      "|Marqués de Riscal...|Marqués de Riscal...|£17.99 per bottle|    75CL|       Tempranillo|                 Graciano|  Natural Cork|    Spain|10.9|Vanilla, Black Fr...|              per bottle|  Red|ABV 14.50%|   Rioja And Navarra|Savoury & Full Bo...|   2019|               Rioja|       17.99|\n",
      "|Peyrassol ‘Les Co...|Established in th...|£18.99 per bottle|    75CL|          Grenache|     Cinsault, Mourvèd...|  Natural Cork|   France| 9.8|Citrus Fruit, Red...|              per bottle| Rosé|ABV 13.00%|            Provence|      Delicate & Dry|   2022|   Côtes De Provence|       18.99|\n",
      "|Les Vignobles Fon...|After Provence ro...|£11.99 per bottle|    75CL|          Grenache|     Syrah, Cabernet S...|      Screwcap|   France| 9.4|Strawberry, Peach...|              per bottle| Rosé|ABV 12.50%|            Provence|      Delicate & Dry|   2022|Coteaux D'Aix-En-...|       11.99|\n",
      "|Château Recougne ...|Legend has it tha...|£12.99 per bottle|    75CL|            Merlot|     Cabernet Sauvigno...|  Natural Cork|   France|10.9|Smoke, Blackberry...|              per bottle|  Red|ABV 14.50%|            Bordeaux|Savoury & Full Bo...|   2020|  Bordeaux Supérieur|       12.99|\n",
      "|Château Fontestea...|If you’re after g...|£16.99 per bottle|    75CL|Cabernet Sauvignon|                   Merlot|  Natural Cork|   France| 9.8|Blackcurrant, Min...|              per bottle|  Red|ABV 13.00%|            Bordeaux|Savoury & Full Bo...|   2014|          Haut-Médoc|       16.99|\n",
      "|Gabriel Allard Cô...|Les Grandes Serre...| £9.99 per bottle|    75CL|          Marsanne|     Clairette, Grenac...|  Natural Cork|   France| 9.8|Citrus Fruit, Flo...|              per bottle|White|ABV 13.00%|               Rhône|      Ripe & Rounded|   2022|      Côtes Du Rhône|        9.99|\n",
      "|Marqués de Cácere...|Family-run Marqué...|£22.99 per bottle|    75CL|       Tempranillo|       Grenache, Graciano|  Natural Cork|    Spain|10.9|Vanilla, Black Fr...|              per bottle|  Red|ABV 14.50%|   Rioja And Navarra|Savoury & Full Bo...|   2015|               Rioja|       22.99|\n",
      "|Chosen by Majesti...|We sent our award...|£11.99 per bottle|    75CL|           Corvina|     Corvinone, Molina...|      Screwcap|    Italy| 9.8|Black Fruit, Red ...|              per bottle|  Red|ABV 13.00%|              Veneto|        Bold & Spicy|   2021|        Valpolicella|       11.99|\n",
      "|Peyrassol 'Réserv...|Peyrassol was est...|£35.99 per bottle|  1.5LTR|          Grenache|     Cinsault, Mourvèd...|Synthetic Cork|   France|19.5|Herbaceous, Peach...|              per bottle| Rosé|ABV 13.00%|            Provence|      Delicate & Dry|   2022|   Côtes De Provence|       35.99|\n",
      "|Baron de Boutisse...|This is a great-v...|£19.99 per bottle|    75CL|            Merlot|       Cabernet Sauvignon|  Natural Cork|   France|10.9|Cedar, Black Plum...|              per bottle|  Red|ABV 14.50%|            Bordeaux|Savoury & Full Bo...|   2019|       Saint-Émilion|       19.99|\n",
      "|Gabriel Allard Cô...|Les Grandes Serre...| £9.99 per bottle|    75CL|          Grenache|     Cinsault, Mourvèd...|  Natural Cork|   France|10.9|Black Pepper, Bla...|              per bottle|  Red|ABV 14.50%|               Rhône|     Smooth & Mellow|   2022|      Côtes Du Rhône|        9.99|\n",
      "|Alain Jaume 'Roqu...|The Jaume family ...|£18.99 per bottle|    75CL|          Grenache|     Syrah, Carignan, ...|  Natural Cork|   France|11.3|Spice, Black Plum...|              per bottle|  Red|ABV 15.00%|               Rhône|        Bold & Spicy|   2019|               Lirac|       18.99|\n",
      "|Château d'Anglès ...|Winemaker Eric Fa...|£18.99 per bottle|    75CL|         Mourvèdre|                    Syrah|  Natural Cork|   France|10.9|Spice, Black Frui...|              per bottle|  Red|ABV 14.50%|Languedoc-Roussillon|        Bold & Spicy|   2020|            La Clape|       18.99|\n",
      "|Petaluma ‘White L...|Petaluma are reno...|£19.99 per bottle|    75CL|   Sauvignon Blanc|               Pinot Noir|      Screwcap|Australia| 9.4|Grapefruit, Grass...|              per bottle|White|ABV 12.50%|     South Australia|       Crisp & Zesty|   2021|      Adelaide Hills|       19.99|\n",
      "|Domini Veneti 'La...|This is Valpolice...|£18.99 per bottle|    75CL|           Corvina|     Rondinella, Corvi...|  Natural Cork|    Italy|10.9|Vanilla, Fig, Red...|              per bottle|  Red|ABV 14.50%|              Veneto|        Rich & Juicy|   2019|        Valpolicella|       18.99|\n",
      "+--------------------+--------------------+-----------------+--------+------------------+-------------------------+--------------+---------+----+--------------------+------------------------+-----+----------+--------------------+--------------------+-------+--------------------+------------+\n",
      "only showing top 20 rows\n",
      "\n"
     ]
    }
   ],
   "source": [
    "df.show()"
   ]
  },
  {
   "cell_type": "code",
   "execution_count": 128,
   "id": "de7e320c-42b7-45f7-8b50-98aec8c64a6c",
   "metadata": {},
   "outputs": [
    {
     "name": "stderr",
     "output_type": "stream",
     "text": [
      "                                                                                \r"
     ]
    }
   ],
   "source": [
    "df.write.csv(\"../Datasets/Wine_clean.csv\")"
   ]
  },
  {
   "cell_type": "code",
   "execution_count": 10,
   "id": "910a39a5-7aa6-4e5a-823c-ec29ea90a797",
   "metadata": {},
   "outputs": [
    {
     "ename": "TypeError",
     "evalue": "unsupported operand type(s) for +: 'DataFrame' and 'DataFrame'",
     "output_type": "error",
     "traceback": [
      "\u001b[0;31m---------------------------------------------------------------------------\u001b[0m",
      "\u001b[0;31mTypeError\u001b[0m                                 Traceback (most recent call last)",
      "Cell \u001b[0;32mIn[10], line 1\u001b[0m\n\u001b[0;32m----> 1\u001b[0m df \u001b[38;5;241m=\u001b[39m \u001b[43mdf\u001b[49m\u001b[43m \u001b[49m\u001b[38;5;241;43m+\u001b[39;49m\u001b[43m \u001b[49m\u001b[43mdf\u001b[49m\n",
      "\u001b[0;31mTypeError\u001b[0m: unsupported operand type(s) for +: 'DataFrame' and 'DataFrame'"
     ]
    }
   ],
   "source": [
    "df = df + df"
   ]
  },
  {
   "cell_type": "code",
   "execution_count": null,
   "id": "19570283-403d-4a16-b28c-c248da714a30",
   "metadata": {},
   "outputs": [],
   "source": []
  }
 ],
 "metadata": {
  "kernelspec": {
   "display_name": "Python 3 (ipykernel)",
   "language": "python",
   "name": "python3"
  },
  "language_info": {
   "codemirror_mode": {
    "name": "ipython",
    "version": 3
   },
   "file_extension": ".py",
   "mimetype": "text/x-python",
   "name": "python",
   "nbconvert_exporter": "python",
   "pygments_lexer": "ipython3",
   "version": "3.12.2"
  }
 },
 "nbformat": 4,
 "nbformat_minor": 5
}
