{
 "cells": [
  {
   "cell_type": "code",
   "execution_count": 4,
   "id": "431d644b-0ea0-4f6c-9366-4dc964d1a82f",
   "metadata": {},
   "outputs": [],
   "source": [
    "from pyspark.sql import SparkSession"
   ]
  },
  {
   "cell_type": "code",
   "execution_count": 13,
   "id": "c7871008-b889-4d7f-9fd1-7e22ad4ab6e9",
   "metadata": {},
   "outputs": [],
   "source": [
    "spark = SparkSession.builder.getOrCreate()"
   ]
  },
  {
   "cell_type": "code",
   "execution_count": 18,
   "id": "afdee0ee-76ad-4a47-89e3-592b4fd9875a",
   "metadata": {},
   "outputs": [
    {
     "name": "stderr",
     "output_type": "stream",
     "text": [
      "                                                                                \r"
     ]
    }
   ],
   "source": [
    "#Create a Larger DataFrame using weather Dataset in Databricks\n",
    "largeDF = spark.read.parquet(\"/Users/prashant/Desktop/GITHUB/shishop/PYSPARK/weather.2016.parquet\").limit(2000)\n",
    "\n",
    "#Create a smaller dataFrame with abbreviation of codes\n",
    "simpleData =((\"C\", \"Celcius\"),\n",
    "                    (\"F\", \"Fahrenheit\")\n",
    "                   )\n",
    "smallerDF = spark.createDataFrame(data = simpleData, schema = [\"code\", \"realUnit\"])"
   ]
  },
  {
   "cell_type": "code",
   "execution_count": 19,
   "id": "e18a7a3e-374e-414a-8ba4-ef38d798443d",
   "metadata": {},
   "outputs": [
    {
     "name": "stderr",
     "output_type": "stream",
     "text": [
      "                                                                                \r"
     ]
    },
    {
     "name": "stdout",
     "output_type": "stream",
     "text": [
      "+----------------+---------------+-------------------+-------------+---------+--------+----------+-----------------+--------+----------------------+--------------------+--------+---------+--------------------+--------+\n",
      "|ForecastSiteCode|ObservationTime|    ObservationDate|WindDirection|WindSpeed|WindGust|Visibility|ScreenTemperature|Pressure|SignificantWeatherCode|            SiteName|Latitude|Longitude|              Region| Country|\n",
      "+----------------+---------------+-------------------+-------------+---------+--------+----------+-----------------+--------+----------------------+--------------------+--------+---------+--------------------+--------+\n",
      "|            3002|              0|2016-02-01 00:00:00|           12|        8|    NULL|   30000.0|              2.1|   997.0|                     8|   BALTASOUND (3002)|  60.749|   -0.854|   Orkney & Shetland|SCOTLAND|\n",
      "|            3005|              0|2016-02-01 00:00:00|           10|        2|    NULL|   35000.0|              0.1|   997.0|                     7|LERWICK (S. SCREE...|  60.139|   -1.183|   Orkney & Shetland|SCOTLAND|\n",
      "|            3008|              0|2016-02-01 00:00:00|            8|        6|    NULL|   50000.0|              2.8|   997.0|                   -99|    FAIR ISLE (3008)|   59.53|    -1.63|   Orkney & Shetland|    NULL|\n",
      "|            3017|              0|2016-02-01 00:00:00|            6|        8|    NULL|   40000.0|              1.6|   996.0|                     8|     KIRKWALL (3017)|  58.954|     -2.9|   Orkney & Shetland|SCOTLAND|\n",
      "|            3023|              0|2016-02-01 00:00:00|           10|       30|    37.0|    2600.0|              9.8|   991.0|                    11|SOUTH UIST RANGE ...|  57.358|   -7.397|Highland & Eilean...|SCOTLAND|\n",
      "|            3026|              0|2016-02-01 00:00:00|            5|       15|    NULL|    3900.0|              4.3|   991.0|                    12|    STORNOWAY (3026)|  58.214|   -6.325|Highland & Eilean...|SCOTLAND|\n",
      "|            3031|              0|2016-02-01 00:00:00|            4|        9|    NULL|    5000.0|              1.1|   995.0|                    11|LOCH GLACARNOCH S...|  57.725|   -4.896|Highland & Eilean...|SCOTLAND|\n",
      "|            3034|              0|2016-02-01 00:00:00|            5|        7|    NULL|    5000.0|              3.1|   992.0|                    11|      AULTBEA (3034)|  57.859|   -5.636|Highland & Eilean...|SCOTLAND|\n",
      "|            3037|              0|2016-02-01 00:00:00|            8|       15|    NULL|    3400.0|              8.6|   993.0|                    15|SKYE/LUSA (SAMOS)...|  57.257|   -5.809|Highland & Eilean...|SCOTLAND|\n",
      "|            3039|              0|2016-02-01 00:00:00|            9|       32|    43.0|      NULL|              3.9|    NULL|                   -99|BEALACH NA BA (3039)|   57.42|    -5.69|Highland & Eilean...|    NULL|\n",
      "|            3041|              0|2016-02-01 00:00:00|           10|       44|    82.0|      NULL|              3.9|    NULL|                   -99|   AONACH MOR (3041)|   56.82|    -4.97|Highland & Eilean...|    NULL|\n",
      "|            3044|              0|2016-02-01 00:00:00|           12|        6|    NULL|   40000.0|              1.3|   994.0|                     8|ALTNAHARRA SAWS (...|  58.288|   -4.442|Highland & Eilean...|SCOTLAND|\n",
      "|            3047|              0|2016-02-01 00:00:00|            9|       15|    NULL|   10000.0|              4.8|   997.0|                    15|TULLOCH BRIDGE (3...|  56.867|   -4.708|Highland & Eilean...|SCOTLAND|\n",
      "|            3062|              0|2016-02-01 00:00:00|            6|        6|    NULL|    5000.0|              2.4|   995.0|                     9|   TAIN RANGE (3062)|   57.82|    -3.97|Highland & Eilean...|    NULL|\n",
      "|            3063|              0|2016-02-01 00:00:00|            9|        9|    22.0|   22000.0|              2.7|   996.0|                     9|     AVIEMORE (3063)|  57.206|   -3.827|Highland & Eilean...|SCOTLAND|\n",
      "|            3075|              0|2016-02-01 00:00:00|            7|       10|    NULL|   27000.0|              4.2|   996.0|                     8| WICK AIRPORT (3075)|  58.454|   -3.089|Highland & Eilean...|SCOTLAND|\n",
      "|            3066|              0|2016-02-01 00:00:00|            4|        5|    NULL|   12000.0|              2.8|   995.0|                    12|      KINLOSS (3066)| 57.6494|  -3.5606|            Grampian|SCOTLAND|\n",
      "|            3068|              0|2016-02-01 00:00:00|            6|        8|    NULL|   23000.0|              2.5|   996.0|                     8|  LOSSIEMOUTH (3068)|  57.712|   -3.322|            Grampian|SCOTLAND|\n",
      "|            3080|              0|2016-02-01 00:00:00|           12|        2|    NULL|   16000.0|              0.8|   998.0|                     7|       ABOYNE (3080)|  57.077|   -2.836|            Grampian|SCOTLAND|\n",
      "|            3088|              0|2016-02-01 00:00:00|            8|       17|    NULL|     400.0|              4.3|   998.0|                     6|  INVERBERVIE (3088)|   56.85|    -2.27|            Grampian|    NULL|\n",
      "+----------------+---------------+-------------------+-------------+---------+--------+----------+-----------------+--------+----------------------+--------------------+--------+---------+--------------------+--------+\n",
      "only showing top 20 rows\n",
      "\n"
     ]
    }
   ],
   "source": [
    "largeDF.show()"
   ]
  },
  {
   "cell_type": "code",
   "execution_count": null,
   "id": "1cd0eea9-4973-4360-99f2-7f46c79852af",
   "metadata": {},
   "outputs": [],
   "source": []
  }
 ],
 "metadata": {
  "kernelspec": {
   "display_name": "Python 3 (ipykernel)",
   "language": "python",
   "name": "python3"
  },
  "language_info": {
   "codemirror_mode": {
    "name": "ipython",
    "version": 3
   },
   "file_extension": ".py",
   "mimetype": "text/x-python",
   "name": "python",
   "nbconvert_exporter": "python",
   "pygments_lexer": "ipython3",
   "version": "3.11.7"
  }
 },
 "nbformat": 4,
 "nbformat_minor": 5
}
