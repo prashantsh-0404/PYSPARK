{
 "cells": [
  {
   "cell_type": "code",
   "execution_count": 4,
   "id": "283a4acc-c359-4567-add3-3d7dffa0ba0c",
   "metadata": {},
   "outputs": [],
   "source": [
    "import pandas as pd"
   ]
  },
  {
   "cell_type": "code",
   "execution_count": 5,
   "id": "debcc561-58b4-4a0e-a603-7c50180eb86c",
   "metadata": {},
   "outputs": [],
   "source": [
    "acc_csv = \"../Datasets/us-accidents/US_Accidents_March23.csv\""
   ]
  },
  {
   "cell_type": "code",
   "execution_count": 8,
   "id": "428851f5-8a3a-40ca-ac8c-56f6f4520b45",
   "metadata": {},
   "outputs": [],
   "source": [
    "df = pd.read_csv(acc_csv)"
   ]
  },
  {
   "cell_type": "code",
   "execution_count": 9,
   "id": "813505c7-acca-4543-b866-5a990077d618",
   "metadata": {},
   "outputs": [
    {
     "data": {
      "text/plain": [
       "Index(['ID', 'Source', 'Severity', 'Start_Time', 'End_Time', 'Start_Lat',\n",
       "       'Start_Lng', 'End_Lat', 'End_Lng', 'Distance(mi)', 'Description',\n",
       "       'Street', 'City', 'County', 'State', 'Zipcode', 'Country', 'Timezone',\n",
       "       'Airport_Code', 'Weather_Timestamp', 'Temperature(F)', 'Wind_Chill(F)',\n",
       "       'Humidity(%)', 'Pressure(in)', 'Visibility(mi)', 'Wind_Direction',\n",
       "       'Wind_Speed(mph)', 'Precipitation(in)', 'Weather_Condition', 'Amenity',\n",
       "       'Bump', 'Crossing', 'Give_Way', 'Junction', 'No_Exit', 'Railway',\n",
       "       'Roundabout', 'Station', 'Stop', 'Traffic_Calming', 'Traffic_Signal',\n",
       "       'Turning_Loop', 'Sunrise_Sunset', 'Civil_Twilight', 'Nautical_Twilight',\n",
       "       'Astronomical_Twilight'],\n",
       "      dtype='object')"
      ]
     },
     "execution_count": 9,
     "metadata": {},
     "output_type": "execute_result"
    }
   ],
   "source": [
    "df.columns"
   ]
  },
  {
   "cell_type": "code",
   "execution_count": 13,
   "id": "047cb8fd-1907-426b-89b9-da40137b5030",
   "metadata": {},
   "outputs": [
    {
     "data": {
      "text/plain": [
       "ID                       7728394\n",
       "Source                   7728394\n",
       "Severity                 7728394\n",
       "Start_Time               7728394\n",
       "End_Time                 7728394\n",
       "Start_Lat                7728394\n",
       "Start_Lng                7728394\n",
       "End_Lat                  4325632\n",
       "End_Lng                  4325632\n",
       "Distance(mi)             7728394\n",
       "Description              7728389\n",
       "Street                   7717525\n",
       "City                     7728141\n",
       "County                   7728394\n",
       "State                    7728394\n",
       "Zipcode                  7726479\n",
       "Country                  7728394\n",
       "Timezone                 7720586\n",
       "Airport_Code             7705759\n",
       "Weather_Timestamp        7608166\n",
       "Temperature(F)           7564541\n",
       "Wind_Chill(F)            5729375\n",
       "Humidity(%)              7554250\n",
       "Pressure(in)             7587715\n",
       "Visibility(mi)           7551296\n",
       "Wind_Direction           7553188\n",
       "Wind_Speed(mph)          7157161\n",
       "Precipitation(in)        5524808\n",
       "Weather_Condition        7554935\n",
       "Amenity                  7728394\n",
       "Bump                     7728394\n",
       "Crossing                 7728394\n",
       "Give_Way                 7728394\n",
       "Junction                 7728394\n",
       "No_Exit                  7728394\n",
       "Railway                  7728394\n",
       "Roundabout               7728394\n",
       "Station                  7728394\n",
       "Stop                     7728394\n",
       "Traffic_Calming          7728394\n",
       "Traffic_Signal           7728394\n",
       "Turning_Loop             7728394\n",
       "Sunrise_Sunset           7705148\n",
       "Civil_Twilight           7705148\n",
       "Nautical_Twilight        7705148\n",
       "Astronomical_Twilight    7705148\n",
       "dtype: int64"
      ]
     },
     "execution_count": 13,
     "metadata": {},
     "output_type": "execute_result"
    }
   ],
   "source": [
    "df.count()"
   ]
  },
  {
   "cell_type": "code",
   "execution_count": 14,
   "id": "3dca34cb-a9a6-42a5-ad44-555e2244adc5",
   "metadata": {},
   "outputs": [
    {
     "name": "stdout",
     "output_type": "stream",
     "text": [
      "<class 'pandas.core.frame.DataFrame'>\n",
      "RangeIndex: 7728394 entries, 0 to 7728393\n",
      "Data columns (total 46 columns):\n",
      " #   Column                 Dtype  \n",
      "---  ------                 -----  \n",
      " 0   ID                     object \n",
      " 1   Source                 object \n",
      " 2   Severity               int64  \n",
      " 3   Start_Time             object \n",
      " 4   End_Time               object \n",
      " 5   Start_Lat              float64\n",
      " 6   Start_Lng              float64\n",
      " 7   End_Lat                float64\n",
      " 8   End_Lng                float64\n",
      " 9   Distance(mi)           float64\n",
      " 10  Description            object \n",
      " 11  Street                 object \n",
      " 12  City                   object \n",
      " 13  County                 object \n",
      " 14  State                  object \n",
      " 15  Zipcode                object \n",
      " 16  Country                object \n",
      " 17  Timezone               object \n",
      " 18  Airport_Code           object \n",
      " 19  Weather_Timestamp      object \n",
      " 20  Temperature(F)         float64\n",
      " 21  Wind_Chill(F)          float64\n",
      " 22  Humidity(%)            float64\n",
      " 23  Pressure(in)           float64\n",
      " 24  Visibility(mi)         float64\n",
      " 25  Wind_Direction         object \n",
      " 26  Wind_Speed(mph)        float64\n",
      " 27  Precipitation(in)      float64\n",
      " 28  Weather_Condition      object \n",
      " 29  Amenity                bool   \n",
      " 30  Bump                   bool   \n",
      " 31  Crossing               bool   \n",
      " 32  Give_Way               bool   \n",
      " 33  Junction               bool   \n",
      " 34  No_Exit                bool   \n",
      " 35  Railway                bool   \n",
      " 36  Roundabout             bool   \n",
      " 37  Station                bool   \n",
      " 38  Stop                   bool   \n",
      " 39  Traffic_Calming        bool   \n",
      " 40  Traffic_Signal         bool   \n",
      " 41  Turning_Loop           bool   \n",
      " 42  Sunrise_Sunset         object \n",
      " 43  Civil_Twilight         object \n",
      " 44  Nautical_Twilight      object \n",
      " 45  Astronomical_Twilight  object \n",
      "dtypes: bool(13), float64(12), int64(1), object(20)\n",
      "memory usage: 2.0+ GB\n"
     ]
    }
   ],
   "source": [
    "df.info()"
   ]
  },
  {
   "cell_type": "code",
   "execution_count": 15,
   "id": "d87b7edd-f5e3-46c4-b2d8-d43e1c2023d6",
   "metadata": {},
   "outputs": [],
   "source": [
    "selected_cols = ['Severity', 'Start_Time', 'End_Time', 'Start_Lat', 'Start_Lng',\n",
    "                 'End_Lat', 'End_Lng', 'Distance(mi)', 'Description', 'City', 'State', \n",
    "                 'Timezone', 'Weather_Condition']"
   ]
  },
  {
   "cell_type": "code",
   "execution_count": 16,
   "id": "027e0499-6526-4fb2-a353-114664cb6e24",
   "metadata": {},
   "outputs": [],
   "source": [
    "lim_df = pd.read_csv(acc_csv, usecols=selected_cols)"
   ]
  },
  {
   "cell_type": "code",
   "execution_count": 23,
   "id": "f3bfbac3-ed61-4732-a82a-8b6cdfaceb12",
   "metadata": {},
   "outputs": [],
   "source": [
    "df2 = lim_df"
   ]
  },
  {
   "cell_type": "code",
   "execution_count": 24,
   "id": "22aceff4-57a5-49a3-ae73-941727d80968",
   "metadata": {},
   "outputs": [
    {
     "name": "stdout",
     "output_type": "stream",
     "text": [
      "<class 'pandas.core.frame.DataFrame'>\n",
      "RangeIndex: 7728394 entries, 0 to 7728393\n",
      "Data columns (total 13 columns):\n",
      " #   Column             Dtype  \n",
      "---  ------             -----  \n",
      " 0   Severity           int64  \n",
      " 1   Start_Time         object \n",
      " 2   End_Time           object \n",
      " 3   Start_Lat          float64\n",
      " 4   Start_Lng          float64\n",
      " 5   End_Lat            float64\n",
      " 6   End_Lng            float64\n",
      " 7   Distance(mi)       float64\n",
      " 8   Description        object \n",
      " 9   City               object \n",
      " 10  State              object \n",
      " 11  Timezone           object \n",
      " 12  Weather_Condition  object \n",
      "dtypes: float64(5), int64(1), object(7)\n",
      "memory usage: 766.5+ MB\n"
     ]
    }
   ],
   "source": [
    "df2.info()"
   ]
  },
  {
   "cell_type": "code",
   "execution_count": 6,
   "id": "aeefc3ab-6a67-44eb-ae13-515ed5306dd8",
   "metadata": {},
   "outputs": [],
   "source": [
    "selected_cols = ['Severity', 'Start_Time', 'End_Time', 'Start_Lat', 'Start_Lng',\n",
    "                 'End_Lat', 'End_Lng', 'Distance(mi)', 'Description', 'City', \n",
    "                 'State', 'Timezone','Weather_Condition']\n",
    "\n",
    "selected_dtypes = {\n",
    "    'Severity': 'int16',\n",
    "    'Start_Lat': 'float32',\n",
    "    'Start_Lng': 'float32',\n",
    "    'End_Lat': 'float32',\n",
    "    'End_Lng': 'float32',\n",
    "    'Distance(mi)': 'float32'   \n",
    "}"
   ]
  },
  {
   "cell_type": "code",
   "execution_count": 7,
   "id": "bad2a7b0-54a4-41f6-89b6-87bc08234627",
   "metadata": {},
   "outputs": [],
   "source": [
    "df3 = pd.read_csv(acc_csv, \n",
    "                            usecols=selected_cols, \n",
    "                            dtype=selected_dtypes, \n",
    "                            parse_dates=['Start_Time', 'End_Time'])"
   ]
  },
  {
   "cell_type": "code",
   "execution_count": 8,
   "id": "4ae74826-8a67-4956-b681-0974bbe3925d",
   "metadata": {},
   "outputs": [
    {
     "name": "stdout",
     "output_type": "stream",
     "text": [
      "<class 'pandas.core.frame.DataFrame'>\n",
      "RangeIndex: 7728394 entries, 0 to 7728393\n",
      "Data columns (total 13 columns):\n",
      " #   Column             Dtype  \n",
      "---  ------             -----  \n",
      " 0   Severity           int16  \n",
      " 1   Start_Time         object \n",
      " 2   End_Time           object \n",
      " 3   Start_Lat          float32\n",
      " 4   Start_Lng          float32\n",
      " 5   End_Lat            float32\n",
      " 6   End_Lng            float32\n",
      " 7   Distance(mi)       float32\n",
      " 8   Description        object \n",
      " 9   City               object \n",
      " 10  State              object \n",
      " 11  Timezone           object \n",
      " 12  Weather_Condition  object \n",
      "dtypes: float32(5), int16(1), object(7)\n",
      "memory usage: 574.9+ MB\n"
     ]
    }
   ],
   "source": [
    "df3.info()"
   ]
  },
  {
   "cell_type": "code",
   "execution_count": 28,
   "id": "5ca50386-c1f3-4cf8-ad53-833f370887d1",
   "metadata": {},
   "outputs": [],
   "source": [
    "start_time = pd.to_datetime(df2['Start_Time'], format='mixed')"
   ]
  },
  {
   "cell_type": "code",
   "execution_count": 29,
   "id": "56990fef-07ae-4a82-9542-6c9c4c0fb9dd",
   "metadata": {},
   "outputs": [
    {
     "data": {
      "text/plain": [
       "0         2016-02-08 05:46:00\n",
       "1         2016-02-08 06:07:59\n",
       "2         2016-02-08 06:49:27\n",
       "3         2016-02-08 07:23:34\n",
       "4         2016-02-08 07:39:07\n",
       "                  ...        \n",
       "7728389   2019-08-23 18:03:25\n",
       "7728390   2019-08-23 19:11:30\n",
       "7728391   2019-08-23 19:00:21\n",
       "7728392   2019-08-23 19:00:21\n",
       "7728393   2019-08-23 18:52:06\n",
       "Name: Start_Time, Length: 7728394, dtype: datetime64[ns]"
      ]
     },
     "execution_count": 29,
     "metadata": {},
     "output_type": "execute_result"
    }
   ],
   "source": [
    "start_time"
   ]
  },
  {
   "cell_type": "code",
   "execution_count": 9,
   "id": "87d50046-bd28-4aaa-b3c1-49a9ae637f78",
   "metadata": {},
   "outputs": [
    {
     "data": {
      "text/plain": [
       "6987049"
      ]
     },
     "execution_count": 9,
     "metadata": {},
     "output_type": "execute_result"
    }
   ],
   "source": [
    "df3.isnull().sum().sum()"
   ]
  },
  {
   "cell_type": "code",
   "execution_count": 3,
   "id": "44eb8cad-2af0-4585-9657-f53589e8f2eb",
   "metadata": {},
   "outputs": [
    {
     "ename": "NameError",
     "evalue": "name 'df3' is not defined",
     "output_type": "error",
     "traceback": [
      "\u001b[0;31m---------------------------------------------------------------------------\u001b[0m",
      "\u001b[0;31mNameError\u001b[0m                                 Traceback (most recent call last)",
      "Cell \u001b[0;32mIn[3], line 1\u001b[0m\n\u001b[0;32m----> 1\u001b[0m \u001b[43mdf3\u001b[49m\u001b[38;5;241m.\u001b[39misna()\u001b[38;5;241m.\u001b[39msum()\n",
      "\u001b[0;31mNameError\u001b[0m: name 'df3' is not defined"
     ]
    }
   ],
   "source": [
    "df3.isna().sum()"
   ]
  },
  {
   "cell_type": "code",
   "execution_count": 10,
   "id": "f300c8e3-ab91-4c11-b358-fe25a46d975d",
   "metadata": {},
   "outputs": [],
   "source": [
    "df3.to_parquet(\"../Datasets/us_accidents.parquet\")"
   ]
  },
  {
   "cell_type": "code",
   "execution_count": 40,
   "id": "305ee241-f4d8-4e61-9026-461e98d8e065",
   "metadata": {},
   "outputs": [
    {
     "name": "stdout",
     "output_type": "stream",
     "text": [
      "Collecting pyarrow\n",
      "  Downloading pyarrow-15.0.0-cp312-cp312-macosx_10_15_x86_64.whl.metadata (3.0 kB)\n",
      "Requirement already satisfied: numpy<2,>=1.16.6 in /usr/local/Cellar/jupyterlab/4.1.1/libexec/lib/python3.12/site-packages (from pyarrow) (1.26.4)\n",
      "Downloading pyarrow-15.0.0-cp312-cp312-macosx_10_15_x86_64.whl (27.1 MB)\n",
      "\u001b[2K   \u001b[90m━━━━━━━━━━━━━━━━━━━━━━━━━━━━━━━━━━━━━━━━\u001b[0m \u001b[32m27.1/27.1 MB\u001b[0m \u001b[31m20.1 MB/s\u001b[0m eta \u001b[36m0:00:00\u001b[0m00:01\u001b[0m00:01\u001b[0m\n",
      "\u001b[?25hInstalling collected packages: pyarrow\n",
      "Successfully installed pyarrow-15.0.0\n",
      "Note: you may need to restart the kernel to use updated packages.\n"
     ]
    }
   ],
   "source": [
    "pip install pyarrow"
   ]
  },
  {
   "cell_type": "code",
   "execution_count": 41,
   "id": "c2d6f2a2-b963-4d4e-98c8-7e0329d7b7a6",
   "metadata": {},
   "outputs": [
    {
     "name": "stdout",
     "output_type": "stream",
     "text": [
      "Collecting fastparquet\n",
      "  Downloading fastparquet-2024.2.0-cp312-cp312-macosx_10_9_universal2.whl.metadata (4.1 kB)\n",
      "Requirement already satisfied: pandas>=1.5.0 in /usr/local/Cellar/jupyterlab/4.1.1/libexec/lib/python3.12/site-packages (from fastparquet) (2.2.1)\n",
      "Requirement already satisfied: numpy>=1.20.3 in /usr/local/Cellar/jupyterlab/4.1.1/libexec/lib/python3.12/site-packages (from fastparquet) (1.26.4)\n",
      "Collecting cramjam>=2.3 (from fastparquet)\n",
      "  Downloading cramjam-2.8.2-cp312-cp312-macosx_10_12_x86_64.whl.metadata (4.1 kB)\n",
      "Collecting fsspec (from fastparquet)\n",
      "  Downloading fsspec-2024.2.0-py3-none-any.whl.metadata (6.8 kB)\n",
      "Requirement already satisfied: packaging in /usr/local/opt/python-packaging/lib/python3.12/site-packages (from fastparquet) (23.2)\n",
      "Requirement already satisfied: python-dateutil>=2.8.2 in /usr/local/opt/python-dateutil/lib/python3.12/site-packages (from pandas>=1.5.0->fastparquet) (2.8.2)\n",
      "Requirement already satisfied: pytz>=2020.1 in /usr/local/Cellar/jupyterlab/4.1.1/libexec/lib/python3.12/site-packages (from pandas>=1.5.0->fastparquet) (2024.1)\n",
      "Requirement already satisfied: tzdata>=2022.7 in /usr/local/Cellar/jupyterlab/4.1.1/libexec/lib/python3.12/site-packages (from pandas>=1.5.0->fastparquet) (2024.1)\n",
      "Requirement already satisfied: six>=1.5 in /usr/local/opt/six/lib/python3.12/site-packages (from python-dateutil>=2.8.2->pandas>=1.5.0->fastparquet) (1.16.0)\n",
      "Downloading fastparquet-2024.2.0-cp312-cp312-macosx_10_9_universal2.whl (920 kB)\n",
      "\u001b[2K   \u001b[90m━━━━━━━━━━━━━━━━━━━━━━━━━━━━━━━━━━━━━━━━\u001b[0m \u001b[32m920.8/920.8 kB\u001b[0m \u001b[31m7.1 MB/s\u001b[0m eta \u001b[36m0:00:00\u001b[0m00:01\u001b[0m:00:01\u001b[0m\n",
      "\u001b[?25hDownloading cramjam-2.8.2-cp312-cp312-macosx_10_12_x86_64.whl (2.0 MB)\n",
      "\u001b[2K   \u001b[90m━━━━━━━━━━━━━━━━━━━━━━━━━━━━━━━━━━━━━━━━\u001b[0m \u001b[32m2.0/2.0 MB\u001b[0m \u001b[31m21.2 MB/s\u001b[0m eta \u001b[36m0:00:00\u001b[0m00:01\u001b[0m00:01\u001b[0m\n",
      "\u001b[?25hDownloading fsspec-2024.2.0-py3-none-any.whl (170 kB)\n",
      "\u001b[2K   \u001b[90m━━━━━━━━━━━━━━━━━━━━━━━━━━━━━━━━━━━━━━━━\u001b[0m \u001b[32m170.9/170.9 kB\u001b[0m \u001b[31m5.4 MB/s\u001b[0m eta \u001b[36m0:00:00\u001b[0m\n",
      "\u001b[?25hInstalling collected packages: fsspec, cramjam, fastparquet\n",
      "Successfully installed cramjam-2.8.2 fastparquet-2024.2.0 fsspec-2024.2.0\n",
      "Note: you may need to restart the kernel to use updated packages.\n"
     ]
    }
   ],
   "source": [
    "pip install fastparquet"
   ]
  },
  {
   "cell_type": "code",
   "execution_count": 11,
   "id": "3082391d-a20b-4b72-a7c4-ceb86144d25c",
   "metadata": {},
   "outputs": [],
   "source": [
    "df4 = pd.read_parquet(\"../Datasets/us_accidents.parquet\")"
   ]
  },
  {
   "cell_type": "code",
   "execution_count": 14,
   "id": "9ecb8e3f-ff3e-4d5a-a5b5-7e9f042eabe9",
   "metadata": {},
   "outputs": [
    {
     "data": {
      "text/plain": [
       "Severity             7728394\n",
       "Start_Time           7728394\n",
       "End_Time             7728394\n",
       "Start_Lat            7728394\n",
       "Start_Lng            7728394\n",
       "End_Lat              4325632\n",
       "End_Lng              4325632\n",
       "Distance(mi)         7728394\n",
       "Description          7728389\n",
       "City                 7728141\n",
       "State                7728394\n",
       "Timezone             7720586\n",
       "Weather_Condition    7554935\n",
       "dtype: int64"
      ]
     },
     "execution_count": 14,
     "metadata": {},
     "output_type": "execute_result"
    }
   ],
   "source": [
    "df4.count()"
   ]
  },
  {
   "cell_type": "code",
   "execution_count": 19,
   "id": "9faf841c-1b68-4980-9f17-85e72e48796a",
   "metadata": {},
   "outputs": [],
   "source": [
    "df4=df4.dropna()"
   ]
  },
  {
   "cell_type": "code",
   "execution_count": 20,
   "id": "c2106fc1-b877-40bc-abaa-5463041a5765",
   "metadata": {},
   "outputs": [
    {
     "data": {
      "text/plain": [
       "Severity             4216978\n",
       "Start_Time           4216978\n",
       "End_Time             4216978\n",
       "Start_Lat            4216978\n",
       "Start_Lng            4216978\n",
       "End_Lat              4216978\n",
       "End_Lng              4216978\n",
       "Distance(mi)         4216978\n",
       "Description          4216978\n",
       "City                 4216978\n",
       "State                4216978\n",
       "Timezone             4216978\n",
       "Weather_Condition    4216978\n",
       "dtype: int64"
      ]
     },
     "execution_count": 20,
     "metadata": {},
     "output_type": "execute_result"
    }
   ],
   "source": [
    "df4.count()"
   ]
  },
  {
   "cell_type": "code",
   "execution_count": 21,
   "id": "a7fce151-63c2-4000-9e79-520a07d7c757",
   "metadata": {},
   "outputs": [
    {
     "data": {
      "text/plain": [
       "array(['Light Rain', 'Overcast', 'Mostly Cloudy', 'Snow', 'Light Snow',\n",
       "       'Cloudy', 'Scattered Clouds', 'Clear', 'Partly Cloudy',\n",
       "       'Light Freezing Drizzle', 'Light Drizzle', 'Haze', 'Rain',\n",
       "       'Heavy Rain', 'Fair', 'Drizzle', 'Fog', 'Thunderstorms and Rain',\n",
       "       'Patches of Fog', 'Light Thunderstorms and Rain', 'Mist',\n",
       "       'Rain Showers', 'Light Rain Showers', 'Heavy Drizzle', 'Smoke',\n",
       "       'Light Freezing Fog', 'Light Freezing Rain', 'Blowing Snow',\n",
       "       'Heavy Thunderstorms and Rain', 'Heavy Snow', 'Snow Grains',\n",
       "       'Squalls', 'Light Fog', 'Shallow Fog', 'Thunderstorm',\n",
       "       'Light Ice Pellets', 'Thunder', 'Thunder in the Vicinity',\n",
       "       'Fair / Windy', 'Light Rain with Thunder',\n",
       "       'Heavy Thunderstorms and Snow', 'Light Snow Showers',\n",
       "       'Cloudy / Windy', 'Ice Pellets', 'N/A Precipitation',\n",
       "       'Light Thunderstorms and Snow', 'T-Storm', 'Rain / Windy',\n",
       "       'Wintry Mix', 'Partly Cloudy / Windy', 'Heavy T-Storm', 'Sand',\n",
       "       'Light Rain / Windy', 'Widespread Dust', 'Mostly Cloudy / Windy',\n",
       "       'Blowing Dust / Windy', 'Blowing Dust', 'Volcanic Ash',\n",
       "       'Freezing Rain / Windy', 'Small Hail', 'Wintry Mix / Windy',\n",
       "       'Light Snow / Windy', 'Heavy Ice Pellets', 'Heavy Snow / Windy',\n",
       "       'Heavy Rain / Windy', 'Heavy T-Storm / Windy', 'Fog / Windy',\n",
       "       'Dust Whirls', 'Showers in the Vicinity', 'Funnel Cloud',\n",
       "       'Thunder / Wintry Mix', 'Light Snow and Sleet',\n",
       "       'Thunder / Wintry Mix / Windy', 'Snow and Sleet', 'Haze / Windy',\n",
       "       'Freezing Rain', 'Mist / Windy', 'T-Storm / Windy', 'Snow / Windy',\n",
       "       'Light Drizzle / Windy', 'Drizzle and Fog', 'Light Rain Shower',\n",
       "       'Light Freezing Rain / Windy', 'Snow and Sleet / Windy',\n",
       "       'Rain Shower / Windy', 'Drizzle / Windy', 'Hail',\n",
       "       'Light Snow with Thunder', 'Rain Shower', 'Light Snow Shower',\n",
       "       'Heavy Snow with Thunder', 'Blowing Snow / Windy',\n",
       "       'Thunder / Windy', 'Sleet and Thunder', 'Light Sleet',\n",
       "       'Smoke / Windy', 'Sleet', 'Heavy Freezing Drizzle',\n",
       "       'Widespread Dust / Windy', 'Heavy Sleet and Thunder',\n",
       "       'Drifting Snow / Windy', 'Freezing Drizzle', 'Snow and Thunder',\n",
       "       'Light Sleet / Windy', 'Sand / Dust Whirls Nearby',\n",
       "       'Thunder and Hail', 'Sleet / Windy', 'Heavy Sleet',\n",
       "       'Light Snow and Sleet / Windy', 'Shallow Fog / Windy',\n",
       "       'Squalls / Windy', 'Light Rain Shower / Windy', 'Tornado',\n",
       "       'Thunder and Hail / Windy', 'Light Snow Shower / Windy',\n",
       "       'Sand / Dust Whirlwinds', 'Heavy Sleet / Windy', 'Sand / Windy',\n",
       "       'Duststorm', 'Heavy Rain Shower / Windy',\n",
       "       'Snow and Thunder / Windy', 'Sand / Dust Whirlwinds / Windy',\n",
       "       'Blowing Snow Nearby', 'Partial Fog', 'Heavy Freezing Rain',\n",
       "       'Blowing Sand', 'Patches of Fog / Windy', 'Heavy Rain Shower',\n",
       "       'Drifting Snow', 'Heavy Blowing Snow', 'Low Drifting Snow',\n",
       "       'Light Blowing Snow', 'Heavy Rain Showers', 'Light Haze',\n",
       "       'Heavy Thunderstorms with Small Hail'], dtype=object)"
      ]
     },
     "execution_count": 21,
     "metadata": {},
     "output_type": "execute_result"
    }
   ],
   "source": [
    "df4.Weather_Condition.unique()"
   ]
  },
  {
   "cell_type": "code",
   "execution_count": 22,
   "id": "bd14742e-b8f2-4f9f-82af-4380540d5519",
   "metadata": {},
   "outputs": [
    {
     "data": {
      "text/plain": [
       "135"
      ]
     },
     "execution_count": 22,
     "metadata": {},
     "output_type": "execute_result"
    }
   ],
   "source": [
    "df4.Weather_Condition.nunique()"
   ]
  },
  {
   "cell_type": "code",
   "execution_count": 26,
   "id": "a0fe3d79-e841-4837-8ec2-8f442ac6bc5d",
   "metadata": {},
   "outputs": [
    {
     "data": {
      "text/plain": [
       "Weather_Condition\n",
       "Fair                                   1803421\n",
       "Cloudy                                  549674\n",
       "Mostly Cloudy                           546059\n",
       "Partly Cloudy                           374629\n",
       "Light Rain                              189026\n",
       "                                        ...   \n",
       "Heavy Rain Shower / Windy                    1\n",
       "Sand / Windy                                 1\n",
       "Heavy Sleet / Windy                          1\n",
       "Light Fog                                    1\n",
       "Heavy Thunderstorms with Small Hail          1\n",
       "Name: count, Length: 135, dtype: int64"
      ]
     },
     "execution_count": 26,
     "metadata": {},
     "output_type": "execute_result"
    }
   ],
   "source": [
    "df4.Weather_Condition.value_counts()"
   ]
  },
  {
   "cell_type": "code",
   "execution_count": 29,
   "id": "5dd59f85-9cb0-41cc-bb01-946e058e2dfb",
   "metadata": {},
   "outputs": [
    {
     "data": {
      "text/plain": [
       "pandas.core.series.Series"
      ]
     },
     "execution_count": 29,
     "metadata": {},
     "output_type": "execute_result"
    }
   ],
   "source": [
    "type(df4['Weather_Condition'])"
   ]
  },
  {
   "cell_type": "code",
   "execution_count": 32,
   "id": "94aafe0b-d188-4425-ad58-59bb0c2bc492",
   "metadata": {},
   "outputs": [],
   "source": [
    "df4['Weather_Condition'] = df4['Weather_Condition'].astype('category')"
   ]
  },
  {
   "cell_type": "code",
   "execution_count": 33,
   "id": "43eb8e98-146e-4ec0-b3c7-e751811497ce",
   "metadata": {},
   "outputs": [
    {
     "data": {
      "text/plain": [
       "3402762    59\n",
       "3402763    59\n",
       "3402764    83\n",
       "3402765    83\n",
       "3402766    83\n",
       "           ..\n",
       "7728389    16\n",
       "7728390    16\n",
       "7728391    85\n",
       "7728392    16\n",
       "7728393    16\n",
       "Length: 4216978, dtype: int16"
      ]
     },
     "execution_count": 33,
     "metadata": {},
     "output_type": "execute_result"
    }
   ],
   "source": [
    "df4['Weather_Condition'].cat.codes"
   ]
  },
  {
   "cell_type": "code",
   "execution_count": 34,
   "id": "f8396d90-ae33-4bf9-ad94-faaa9d14c844",
   "metadata": {},
   "outputs": [
    {
     "data": {
      "text/plain": [
       "Index(['Blowing Dust', 'Blowing Dust / Windy', 'Blowing Sand', 'Blowing Snow',\n",
       "       'Blowing Snow / Windy', 'Blowing Snow Nearby', 'Clear', 'Cloudy',\n",
       "       'Cloudy / Windy', 'Drifting Snow',\n",
       "       ...\n",
       "       'Thunder and Hail / Windy', 'Thunder in the Vicinity', 'Thunderstorm',\n",
       "       'Thunderstorms and Rain', 'Tornado', 'Volcanic Ash', 'Widespread Dust',\n",
       "       'Widespread Dust / Windy', 'Wintry Mix', 'Wintry Mix / Windy'],\n",
       "      dtype='object', length=135)"
      ]
     },
     "execution_count": 34,
     "metadata": {},
     "output_type": "execute_result"
    }
   ],
   "source": [
    "df4['Weather_Condition'].cat.categories"
   ]
  },
  {
   "cell_type": "code",
   "execution_count": 35,
   "id": "bc68cebc-53e3-45de-a2ee-88749be7aeb8",
   "metadata": {},
   "outputs": [],
   "source": [
    "onehot_df = pd.get_dummies(df4.Severity)"
   ]
  },
  {
   "cell_type": "code",
   "execution_count": 36,
   "id": "e54a7734-2c5c-494f-8655-cdbd0cd3f78f",
   "metadata": {},
   "outputs": [
    {
     "data": {
      "text/html": [
       "<div>\n",
       "<style scoped>\n",
       "    .dataframe tbody tr th:only-of-type {\n",
       "        vertical-align: middle;\n",
       "    }\n",
       "\n",
       "    .dataframe tbody tr th {\n",
       "        vertical-align: top;\n",
       "    }\n",
       "\n",
       "    .dataframe thead th {\n",
       "        text-align: right;\n",
       "    }\n",
       "</style>\n",
       "<table border=\"1\" class=\"dataframe\">\n",
       "  <thead>\n",
       "    <tr style=\"text-align: right;\">\n",
       "      <th></th>\n",
       "      <th>1</th>\n",
       "      <th>2</th>\n",
       "      <th>3</th>\n",
       "      <th>4</th>\n",
       "    </tr>\n",
       "  </thead>\n",
       "  <tbody>\n",
       "    <tr>\n",
       "      <th>3402762</th>\n",
       "      <td>False</td>\n",
       "      <td>False</td>\n",
       "      <td>True</td>\n",
       "      <td>False</td>\n",
       "    </tr>\n",
       "    <tr>\n",
       "      <th>3402763</th>\n",
       "      <td>False</td>\n",
       "      <td>True</td>\n",
       "      <td>False</td>\n",
       "      <td>False</td>\n",
       "    </tr>\n",
       "    <tr>\n",
       "      <th>3402764</th>\n",
       "      <td>False</td>\n",
       "      <td>True</td>\n",
       "      <td>False</td>\n",
       "      <td>False</td>\n",
       "    </tr>\n",
       "    <tr>\n",
       "      <th>3402765</th>\n",
       "      <td>False</td>\n",
       "      <td>True</td>\n",
       "      <td>False</td>\n",
       "      <td>False</td>\n",
       "    </tr>\n",
       "    <tr>\n",
       "      <th>3402766</th>\n",
       "      <td>False</td>\n",
       "      <td>True</td>\n",
       "      <td>False</td>\n",
       "      <td>False</td>\n",
       "    </tr>\n",
       "    <tr>\n",
       "      <th>...</th>\n",
       "      <td>...</td>\n",
       "      <td>...</td>\n",
       "      <td>...</td>\n",
       "      <td>...</td>\n",
       "    </tr>\n",
       "    <tr>\n",
       "      <th>7728389</th>\n",
       "      <td>False</td>\n",
       "      <td>True</td>\n",
       "      <td>False</td>\n",
       "      <td>False</td>\n",
       "    </tr>\n",
       "    <tr>\n",
       "      <th>7728390</th>\n",
       "      <td>False</td>\n",
       "      <td>True</td>\n",
       "      <td>False</td>\n",
       "      <td>False</td>\n",
       "    </tr>\n",
       "    <tr>\n",
       "      <th>7728391</th>\n",
       "      <td>False</td>\n",
       "      <td>True</td>\n",
       "      <td>False</td>\n",
       "      <td>False</td>\n",
       "    </tr>\n",
       "    <tr>\n",
       "      <th>7728392</th>\n",
       "      <td>False</td>\n",
       "      <td>True</td>\n",
       "      <td>False</td>\n",
       "      <td>False</td>\n",
       "    </tr>\n",
       "    <tr>\n",
       "      <th>7728393</th>\n",
       "      <td>False</td>\n",
       "      <td>True</td>\n",
       "      <td>False</td>\n",
       "      <td>False</td>\n",
       "    </tr>\n",
       "  </tbody>\n",
       "</table>\n",
       "<p>4216978 rows × 4 columns</p>\n",
       "</div>"
      ],
      "text/plain": [
       "             1      2      3      4\n",
       "3402762  False  False   True  False\n",
       "3402763  False   True  False  False\n",
       "3402764  False   True  False  False\n",
       "3402765  False   True  False  False\n",
       "3402766  False   True  False  False\n",
       "...        ...    ...    ...    ...\n",
       "7728389  False   True  False  False\n",
       "7728390  False   True  False  False\n",
       "7728391  False   True  False  False\n",
       "7728392  False   True  False  False\n",
       "7728393  False   True  False  False\n",
       "\n",
       "[4216978 rows x 4 columns]"
      ]
     },
     "execution_count": 36,
     "metadata": {},
     "output_type": "execute_result"
    }
   ],
   "source": [
    "onehot_df"
   ]
  },
  {
   "cell_type": "code",
   "execution_count": 47,
   "id": "42c02b2d-c489-4ba3-a9f8-ffdee12ea06b",
   "metadata": {},
   "outputs": [],
   "source": [
    "df5 = pd.concat((df4, onehot_df), axis = 1)"
   ]
  },
  {
   "cell_type": "code",
   "execution_count": 48,
   "id": "be1e71d8-5d1b-4970-88b1-d4e79e37bc17",
   "metadata": {},
   "outputs": [
    {
     "data": {
      "text/html": [
       "<div>\n",
       "<style scoped>\n",
       "    .dataframe tbody tr th:only-of-type {\n",
       "        vertical-align: middle;\n",
       "    }\n",
       "\n",
       "    .dataframe tbody tr th {\n",
       "        vertical-align: top;\n",
       "    }\n",
       "\n",
       "    .dataframe thead th {\n",
       "        text-align: right;\n",
       "    }\n",
       "</style>\n",
       "<table border=\"1\" class=\"dataframe\">\n",
       "  <thead>\n",
       "    <tr style=\"text-align: right;\">\n",
       "      <th></th>\n",
       "      <th>Severity</th>\n",
       "      <th>Start_Time</th>\n",
       "      <th>End_Time</th>\n",
       "      <th>Start_Lat</th>\n",
       "      <th>Start_Lng</th>\n",
       "      <th>End_Lat</th>\n",
       "      <th>End_Lng</th>\n",
       "      <th>Distance(mi)</th>\n",
       "      <th>Description</th>\n",
       "      <th>City</th>\n",
       "      <th>State</th>\n",
       "      <th>Timezone</th>\n",
       "      <th>Weather_Condition</th>\n",
       "      <th>1</th>\n",
       "      <th>2</th>\n",
       "      <th>3</th>\n",
       "      <th>4</th>\n",
       "    </tr>\n",
       "  </thead>\n",
       "  <tbody>\n",
       "    <tr>\n",
       "      <th>7728389</th>\n",
       "      <td>2</td>\n",
       "      <td>2019-08-23 18:03:25</td>\n",
       "      <td>2019-08-23 18:32:01</td>\n",
       "      <td>34.002480</td>\n",
       "      <td>-117.379356</td>\n",
       "      <td>33.998878</td>\n",
       "      <td>-117.370941</td>\n",
       "      <td>0.543</td>\n",
       "      <td>At Market St - Accident.</td>\n",
       "      <td>Riverside</td>\n",
       "      <td>CA</td>\n",
       "      <td>US/Pacific</td>\n",
       "      <td>Fair</td>\n",
       "      <td>False</td>\n",
       "      <td>True</td>\n",
       "      <td>False</td>\n",
       "      <td>False</td>\n",
       "    </tr>\n",
       "    <tr>\n",
       "      <th>7728390</th>\n",
       "      <td>2</td>\n",
       "      <td>2019-08-23 19:11:30</td>\n",
       "      <td>2019-08-23 19:38:23</td>\n",
       "      <td>32.766960</td>\n",
       "      <td>-117.148064</td>\n",
       "      <td>32.765549</td>\n",
       "      <td>-117.153633</td>\n",
       "      <td>0.338</td>\n",
       "      <td>At Camino Del Rio/Mission Center Rd - Accident.</td>\n",
       "      <td>San Diego</td>\n",
       "      <td>CA</td>\n",
       "      <td>US/Pacific</td>\n",
       "      <td>Fair</td>\n",
       "      <td>False</td>\n",
       "      <td>True</td>\n",
       "      <td>False</td>\n",
       "      <td>False</td>\n",
       "    </tr>\n",
       "    <tr>\n",
       "      <th>7728391</th>\n",
       "      <td>2</td>\n",
       "      <td>2019-08-23 19:00:21</td>\n",
       "      <td>2019-08-23 19:28:49</td>\n",
       "      <td>33.775452</td>\n",
       "      <td>-117.847794</td>\n",
       "      <td>33.777401</td>\n",
       "      <td>-117.857269</td>\n",
       "      <td>0.561</td>\n",
       "      <td>At Glassell St/Grand Ave - Accident. in the ri...</td>\n",
       "      <td>Orange</td>\n",
       "      <td>CA</td>\n",
       "      <td>US/Pacific</td>\n",
       "      <td>Partly Cloudy</td>\n",
       "      <td>False</td>\n",
       "      <td>True</td>\n",
       "      <td>False</td>\n",
       "      <td>False</td>\n",
       "    </tr>\n",
       "    <tr>\n",
       "      <th>7728392</th>\n",
       "      <td>2</td>\n",
       "      <td>2019-08-23 19:00:21</td>\n",
       "      <td>2019-08-23 19:29:42</td>\n",
       "      <td>33.992458</td>\n",
       "      <td>-118.403023</td>\n",
       "      <td>33.983109</td>\n",
       "      <td>-118.395653</td>\n",
       "      <td>0.772</td>\n",
       "      <td>At CA-90/Marina Fwy/Jefferson Blvd - Accident.</td>\n",
       "      <td>Culver City</td>\n",
       "      <td>CA</td>\n",
       "      <td>US/Pacific</td>\n",
       "      <td>Fair</td>\n",
       "      <td>False</td>\n",
       "      <td>True</td>\n",
       "      <td>False</td>\n",
       "      <td>False</td>\n",
       "    </tr>\n",
       "    <tr>\n",
       "      <th>7728393</th>\n",
       "      <td>2</td>\n",
       "      <td>2019-08-23 18:52:06</td>\n",
       "      <td>2019-08-23 19:21:31</td>\n",
       "      <td>34.133930</td>\n",
       "      <td>-117.230919</td>\n",
       "      <td>34.137360</td>\n",
       "      <td>-117.239342</td>\n",
       "      <td>0.537</td>\n",
       "      <td>At Highland Ave/Arden Ave - Accident.</td>\n",
       "      <td>Highland</td>\n",
       "      <td>CA</td>\n",
       "      <td>US/Pacific</td>\n",
       "      <td>Fair</td>\n",
       "      <td>False</td>\n",
       "      <td>True</td>\n",
       "      <td>False</td>\n",
       "      <td>False</td>\n",
       "    </tr>\n",
       "  </tbody>\n",
       "</table>\n",
       "</div>"
      ],
      "text/plain": [
       "         Severity           Start_Time             End_Time  Start_Lat  \\\n",
       "7728389         2  2019-08-23 18:03:25  2019-08-23 18:32:01  34.002480   \n",
       "7728390         2  2019-08-23 19:11:30  2019-08-23 19:38:23  32.766960   \n",
       "7728391         2  2019-08-23 19:00:21  2019-08-23 19:28:49  33.775452   \n",
       "7728392         2  2019-08-23 19:00:21  2019-08-23 19:29:42  33.992458   \n",
       "7728393         2  2019-08-23 18:52:06  2019-08-23 19:21:31  34.133930   \n",
       "\n",
       "          Start_Lng    End_Lat     End_Lng  Distance(mi)  \\\n",
       "7728389 -117.379356  33.998878 -117.370941         0.543   \n",
       "7728390 -117.148064  32.765549 -117.153633         0.338   \n",
       "7728391 -117.847794  33.777401 -117.857269         0.561   \n",
       "7728392 -118.403023  33.983109 -118.395653         0.772   \n",
       "7728393 -117.230919  34.137360 -117.239342         0.537   \n",
       "\n",
       "                                               Description         City State  \\\n",
       "7728389                           At Market St - Accident.    Riverside    CA   \n",
       "7728390    At Camino Del Rio/Mission Center Rd - Accident.    San Diego    CA   \n",
       "7728391  At Glassell St/Grand Ave - Accident. in the ri...       Orange    CA   \n",
       "7728392     At CA-90/Marina Fwy/Jefferson Blvd - Accident.  Culver City    CA   \n",
       "7728393              At Highland Ave/Arden Ave - Accident.     Highland    CA   \n",
       "\n",
       "           Timezone Weather_Condition      1     2      3      4  \n",
       "7728389  US/Pacific              Fair  False  True  False  False  \n",
       "7728390  US/Pacific              Fair  False  True  False  False  \n",
       "7728391  US/Pacific     Partly Cloudy  False  True  False  False  \n",
       "7728392  US/Pacific              Fair  False  True  False  False  \n",
       "7728393  US/Pacific              Fair  False  True  False  False  "
      ]
     },
     "execution_count": 48,
     "metadata": {},
     "output_type": "execute_result"
    }
   ],
   "source": [
    "df5.tail(5)"
   ]
  },
  {
   "cell_type": "code",
   "execution_count": 54,
   "id": "1f21ad6a-27ad-4dda-8954-81fd697e45ae",
   "metadata": {},
   "outputs": [
    {
     "data": {
      "text/plain": [
       "'series1:'"
      ]
     },
     "metadata": {},
     "output_type": "display_data"
    },
    {
     "data": {
      "text/plain": [
       "0    1\n",
       "1    2\n",
       "2    3\n",
       "dtype: int64"
      ]
     },
     "metadata": {},
     "output_type": "display_data"
    },
    {
     "data": {
      "text/plain": [
       "'series2:'"
      ]
     },
     "metadata": {},
     "output_type": "display_data"
    },
    {
     "data": {
      "text/plain": [
       "0    A\n",
       "1    B\n",
       "2    C\n",
       "dtype: object"
      ]
     },
     "metadata": {},
     "output_type": "display_data"
    },
    {
     "data": {
      "text/plain": [
       "'After concatenating:'"
      ]
     },
     "metadata": {},
     "output_type": "display_data"
    },
    {
     "data": {
      "text/html": [
       "<div>\n",
       "<style scoped>\n",
       "    .dataframe tbody tr th:only-of-type {\n",
       "        vertical-align: middle;\n",
       "    }\n",
       "\n",
       "    .dataframe tbody tr th {\n",
       "        vertical-align: top;\n",
       "    }\n",
       "\n",
       "    .dataframe thead th {\n",
       "        text-align: right;\n",
       "    }\n",
       "</style>\n",
       "<table border=\"1\" class=\"dataframe\">\n",
       "  <thead>\n",
       "    <tr style=\"text-align: right;\">\n",
       "      <th></th>\n",
       "      <th>0</th>\n",
       "      <th>1</th>\n",
       "    </tr>\n",
       "  </thead>\n",
       "  <tbody>\n",
       "    <tr>\n",
       "      <th>0</th>\n",
       "      <td>1</td>\n",
       "      <td>A</td>\n",
       "    </tr>\n",
       "    <tr>\n",
       "      <th>1</th>\n",
       "      <td>2</td>\n",
       "      <td>B</td>\n",
       "    </tr>\n",
       "    <tr>\n",
       "      <th>2</th>\n",
       "      <td>3</td>\n",
       "      <td>C</td>\n",
       "    </tr>\n",
       "  </tbody>\n",
       "</table>\n",
       "</div>"
      ],
      "text/plain": [
       "   0  1\n",
       "0  1  A\n",
       "1  2  B\n",
       "2  3  C"
      ]
     },
     "metadata": {},
     "output_type": "display_data"
    }
   ],
   "source": [
    "# importing the module\n",
    "import pandas as pd\n",
    "\n",
    "# creating the Series\n",
    "series1 = pd.Series([1, 2, 3])\n",
    "display('series1:', series1)\n",
    "series2 = pd.Series(['A', 'B', 'C'])\n",
    "display('series2:', series2)\n",
    "\n",
    "# concatenating\n",
    "display('After concatenating:')\n",
    "display(pd.concat((series1, series2), axis = 1))\n"
   ]
  },
  {
   "cell_type": "code",
   "execution_count": 55,
   "id": "85905e5e-d03c-4083-9363-c9ac64e1d770",
   "metadata": {},
   "outputs": [
    {
     "data": {
      "text/plain": [
       "'df1:'"
      ]
     },
     "metadata": {},
     "output_type": "display_data"
    },
    {
     "data": {
      "text/html": [
       "<div>\n",
       "<style scoped>\n",
       "    .dataframe tbody tr th:only-of-type {\n",
       "        vertical-align: middle;\n",
       "    }\n",
       "\n",
       "    .dataframe tbody tr th {\n",
       "        vertical-align: top;\n",
       "    }\n",
       "\n",
       "    .dataframe thead th {\n",
       "        text-align: right;\n",
       "    }\n",
       "</style>\n",
       "<table border=\"1\" class=\"dataframe\">\n",
       "  <thead>\n",
       "    <tr style=\"text-align: right;\">\n",
       "      <th></th>\n",
       "      <th>A</th>\n",
       "      <th>B</th>\n",
       "    </tr>\n",
       "  </thead>\n",
       "  <tbody>\n",
       "    <tr>\n",
       "      <th>0</th>\n",
       "      <td>A0</td>\n",
       "      <td>B0</td>\n",
       "    </tr>\n",
       "    <tr>\n",
       "      <th>1</th>\n",
       "      <td>A1</td>\n",
       "      <td>B1</td>\n",
       "    </tr>\n",
       "    <tr>\n",
       "      <th>2</th>\n",
       "      <td>A2</td>\n",
       "      <td>B2</td>\n",
       "    </tr>\n",
       "    <tr>\n",
       "      <th>3</th>\n",
       "      <td>A3</td>\n",
       "      <td>B3</td>\n",
       "    </tr>\n",
       "  </tbody>\n",
       "</table>\n",
       "</div>"
      ],
      "text/plain": [
       "    A   B\n",
       "0  A0  B0\n",
       "1  A1  B1\n",
       "2  A2  B2\n",
       "3  A3  B3"
      ]
     },
     "metadata": {},
     "output_type": "display_data"
    },
    {
     "data": {
      "text/plain": [
       "'df2:'"
      ]
     },
     "metadata": {},
     "output_type": "display_data"
    },
    {
     "data": {
      "text/html": [
       "<div>\n",
       "<style scoped>\n",
       "    .dataframe tbody tr th:only-of-type {\n",
       "        vertical-align: middle;\n",
       "    }\n",
       "\n",
       "    .dataframe tbody tr th {\n",
       "        vertical-align: top;\n",
       "    }\n",
       "\n",
       "    .dataframe thead th {\n",
       "        text-align: right;\n",
       "    }\n",
       "</style>\n",
       "<table border=\"1\" class=\"dataframe\">\n",
       "  <thead>\n",
       "    <tr style=\"text-align: right;\">\n",
       "      <th></th>\n",
       "      <th>A</th>\n",
       "      <th>B</th>\n",
       "    </tr>\n",
       "  </thead>\n",
       "  <tbody>\n",
       "    <tr>\n",
       "      <th>0</th>\n",
       "      <td>A4</td>\n",
       "      <td>B4</td>\n",
       "    </tr>\n",
       "    <tr>\n",
       "      <th>1</th>\n",
       "      <td>A5</td>\n",
       "      <td>B5</td>\n",
       "    </tr>\n",
       "    <tr>\n",
       "      <th>2</th>\n",
       "      <td>A6</td>\n",
       "      <td>B6</td>\n",
       "    </tr>\n",
       "    <tr>\n",
       "      <th>3</th>\n",
       "      <td>A7</td>\n",
       "      <td>B7</td>\n",
       "    </tr>\n",
       "  </tbody>\n",
       "</table>\n",
       "</div>"
      ],
      "text/plain": [
       "    A   B\n",
       "0  A4  B4\n",
       "1  A5  B5\n",
       "2  A6  B6\n",
       "3  A7  B7"
      ]
     },
     "metadata": {},
     "output_type": "display_data"
    },
    {
     "data": {
      "text/plain": [
       "'After concatenating:'"
      ]
     },
     "metadata": {},
     "output_type": "display_data"
    },
    {
     "data": {
      "text/html": [
       "<div>\n",
       "<style scoped>\n",
       "    .dataframe tbody tr th:only-of-type {\n",
       "        vertical-align: middle;\n",
       "    }\n",
       "\n",
       "    .dataframe tbody tr th {\n",
       "        vertical-align: top;\n",
       "    }\n",
       "\n",
       "    .dataframe thead th {\n",
       "        text-align: right;\n",
       "    }\n",
       "</style>\n",
       "<table border=\"1\" class=\"dataframe\">\n",
       "  <thead>\n",
       "    <tr style=\"text-align: right;\">\n",
       "      <th></th>\n",
       "      <th></th>\n",
       "      <th>A</th>\n",
       "      <th>B</th>\n",
       "    </tr>\n",
       "  </thead>\n",
       "  <tbody>\n",
       "    <tr>\n",
       "      <th rowspan=\"4\" valign=\"top\">key1</th>\n",
       "      <th>0</th>\n",
       "      <td>A0</td>\n",
       "      <td>B0</td>\n",
       "    </tr>\n",
       "    <tr>\n",
       "      <th>1</th>\n",
       "      <td>A1</td>\n",
       "      <td>B1</td>\n",
       "    </tr>\n",
       "    <tr>\n",
       "      <th>2</th>\n",
       "      <td>A2</td>\n",
       "      <td>B2</td>\n",
       "    </tr>\n",
       "    <tr>\n",
       "      <th>3</th>\n",
       "      <td>A3</td>\n",
       "      <td>B3</td>\n",
       "    </tr>\n",
       "    <tr>\n",
       "      <th rowspan=\"4\" valign=\"top\">key2</th>\n",
       "      <th>0</th>\n",
       "      <td>A4</td>\n",
       "      <td>B4</td>\n",
       "    </tr>\n",
       "    <tr>\n",
       "      <th>1</th>\n",
       "      <td>A5</td>\n",
       "      <td>B5</td>\n",
       "    </tr>\n",
       "    <tr>\n",
       "      <th>2</th>\n",
       "      <td>A6</td>\n",
       "      <td>B6</td>\n",
       "    </tr>\n",
       "    <tr>\n",
       "      <th>3</th>\n",
       "      <td>A7</td>\n",
       "      <td>B7</td>\n",
       "    </tr>\n",
       "  </tbody>\n",
       "</table>\n",
       "</div>"
      ],
      "text/plain": [
       "         A   B\n",
       "key1 0  A0  B0\n",
       "     1  A1  B1\n",
       "     2  A2  B2\n",
       "     3  A3  B3\n",
       "key2 0  A4  B4\n",
       "     1  A5  B5\n",
       "     2  A6  B6\n",
       "     3  A7  B7"
      ]
     },
     "metadata": {},
     "output_type": "display_data"
    }
   ],
   "source": [
    "# importing the module\n",
    "import pandas as pd\n",
    "\n",
    "# creating the DataFrames\n",
    "df1 = pd.DataFrame({'A': ['A0', 'A1', 'A2', 'A3'],\n",
    "\t\t\t\t\t'B': ['B0', 'B1', 'B2', 'B3']})\n",
    "display('df1:', df1)\n",
    "df2 = pd.DataFrame({'A': ['A4', 'A5', 'A6', 'A7'],\n",
    "\t\t\t\t\t'B': ['B4', 'B5', 'B6', 'B7']})\n",
    "display('df2:', df2)\n",
    "\n",
    "# concatenating\n",
    "display('After concatenating:')\n",
    "display(pd.concat([df1, df2],\n",
    "\t\t\t\tkeys=['key1', 'key2']))\n"
   ]
  },
  {
   "cell_type": "code",
   "execution_count": null,
   "id": "10416a73-1b27-480b-a87b-658e659169b5",
   "metadata": {},
   "outputs": [],
   "source": []
  }
 ],
 "metadata": {
  "kernelspec": {
   "display_name": "Python 3 (ipykernel)",
   "language": "python",
   "name": "python3"
  },
  "language_info": {
   "codemirror_mode": {
    "name": "ipython",
    "version": 3
   },
   "file_extension": ".py",
   "mimetype": "text/x-python",
   "name": "python",
   "nbconvert_exporter": "python",
   "pygments_lexer": "ipython3",
   "version": "3.12.2"
  }
 },
 "nbformat": 4,
 "nbformat_minor": 5
}
