{
 "cells": [
  {
   "cell_type": "code",
   "execution_count": 1,
   "id": "5b877e49-55f1-4e22-8b25-3bdab6e7f9b0",
   "metadata": {},
   "outputs": [],
   "source": [
    "from pyspark import SparkContext, SparkConf"
   ]
  },
  {
   "cell_type": "code",
   "execution_count": 2,
   "id": "1c9d21ed-d882-477e-9a55-898b2a6f28fd",
   "metadata": {},
   "outputs": [],
   "source": [
    "conf = SparkConf().setAppName(\"Operations\").setMaster(\"local[10]\")"
   ]
  },
  {
   "cell_type": "code",
   "execution_count": 3,
   "id": "279c2f26-5b3c-4d9c-b198-c6409db96884",
   "metadata": {},
   "outputs": [
    {
     "name": "stderr",
     "output_type": "stream",
     "text": [
      "Setting default log level to \"WARN\".\n",
      "To adjust logging level use sc.setLogLevel(newLevel). For SparkR, use setLogLevel(newLevel).\n",
      "24/02/17 21:34:36 WARN NativeCodeLoader: Unable to load native-hadoop library for your platform... using builtin-java classes where applicable\n"
     ]
    }
   ],
   "source": [
    "sc = SparkContext(conf=conf)"
   ]
  },
  {
   "cell_type": "code",
   "execution_count": 4,
   "id": "4d6bd496-5031-4f94-9a8e-81aa9067e65a",
   "metadata": {},
   "outputs": [],
   "source": [
    "data = [1,2,3,4,5]\n",
    "rdd = sc.parallelize(data) "
   ]
  },
  {
   "cell_type": "code",
   "execution_count": 5,
   "id": "fea91d4f-f9d1-4120-a9b4-fc409cc46989",
   "metadata": {},
   "outputs": [
    {
     "data": {
      "text/plain": [
       "10"
      ]
     },
     "execution_count": 5,
     "metadata": {},
     "output_type": "execute_result"
    }
   ],
   "source": [
    "rdd.getNumPartitions()"
   ]
  },
  {
   "cell_type": "code",
   "execution_count": 27,
   "id": "fd16ac2d-1b67-4b85-a796-6751162c1b0d",
   "metadata": {},
   "outputs": [
    {
     "data": {
      "text/plain": [
       "MapPartitionsRDD[24] at mapPartitions at PythonRDD.scala:160"
      ]
     },
     "execution_count": 27,
     "metadata": {},
     "output_type": "execute_result"
    }
   ],
   "source": [
    "rdd.partitionBy(5)"
   ]
  },
  {
   "cell_type": "code",
   "execution_count": 6,
   "id": "bd6fe7f8-714d-41f4-9857-19df3763adff",
   "metadata": {},
   "outputs": [
    {
     "name": "stderr",
     "output_type": "stream",
     "text": [
      "                                                                                \r"
     ]
    },
    {
     "data": {
      "text/plain": [
       "[1, 2, 3, 4, 5]"
      ]
     },
     "execution_count": 6,
     "metadata": {},
     "output_type": "execute_result"
    }
   ],
   "source": [
    "rdd.collect()"
   ]
  },
  {
   "cell_type": "code",
   "execution_count": null,
   "id": "36e8174e-7d40-4ab1-a85d-2369dd4bebb1",
   "metadata": {},
   "outputs": [],
   "source": [
    "rdd.reduce(lambda a,b: a + b)"
   ]
  },
  {
   "cell_type": "code",
   "execution_count": null,
   "id": "a6c2efbe-ab6c-4f02-9414-790ed5dc9715",
   "metadata": {},
   "outputs": [],
   "source": []
  }
 ],
 "metadata": {
  "kernelspec": {
   "display_name": "Python 3 (ipykernel)",
   "language": "python",
   "name": "python3"
  },
  "language_info": {
   "codemirror_mode": {
    "name": "ipython",
    "version": 3
   },
   "file_extension": ".py",
   "mimetype": "text/x-python",
   "name": "python",
   "nbconvert_exporter": "python",
   "pygments_lexer": "ipython3",
   "version": "3.12.2"
  }
 },
 "nbformat": 4,
 "nbformat_minor": 5
}
