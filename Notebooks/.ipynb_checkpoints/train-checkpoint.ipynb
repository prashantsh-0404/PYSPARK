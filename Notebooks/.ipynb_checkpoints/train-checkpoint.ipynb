{
 "cells": [
  {
   "cell_type": "code",
   "execution_count": 1,
   "id": "ace240a3-05c8-48db-9fdf-259af68abb6c",
   "metadata": {},
   "outputs": [],
   "source": [
    "from pyspark.sql import SparkSession"
   ]
  },
  {
   "cell_type": "code",
   "execution_count": 2,
   "id": "acf5752b-8e9e-4c8f-9427-99c4f74cb3ed",
   "metadata": {},
   "outputs": [
    {
     "name": "stderr",
     "output_type": "stream",
     "text": [
      "Setting default log level to \"WARN\".\n",
      "To adjust logging level use sc.setLogLevel(newLevel). For SparkR, use setLogLevel(newLevel).\n",
      "24/01/23 03:55:30 WARN NativeCodeLoader: Unable to load native-hadoop library for your platform... using builtin-java classes where applicable\n"
     ]
    }
   ],
   "source": [
    "spark = SparkSession.builder.appName(\"demo\").getOrCreate()"
   ]
  },
  {
   "cell_type": "code",
   "execution_count": 4,
   "id": "c165b534-08a1-4e1e-a475-bd65aa546307",
   "metadata": {},
   "outputs": [],
   "source": [
    "df = spark.createDataFrame(\n",
    "    [\n",
    "        (\"sue\", 32),\n",
    "        (\"li\", 3),\n",
    "        (\"bob\", 75),\n",
    "        (\"heo\", 13),\n",
    "    ],\n",
    "    [\"first_name\", \"age\"],\n",
    ")"
   ]
  },
  {
   "cell_type": "code",
   "execution_count": 5,
   "id": "4cb1d068-eb2b-42e2-a8f8-49fe1d55729f",
   "metadata": {},
   "outputs": [
    {
     "name": "stderr",
     "output_type": "stream",
     "text": [
      "                                                                                \r"
     ]
    },
    {
     "name": "stdout",
     "output_type": "stream",
     "text": [
      "+----------+---+\n",
      "|first_name|age|\n",
      "+----------+---+\n",
      "|       sue| 32|\n",
      "|        li|  3|\n",
      "|       bob| 75|\n",
      "|       heo| 13|\n",
      "+----------+---+\n",
      "\n"
     ]
    }
   ],
   "source": [
    "df.show()"
   ]
  },
  {
   "cell_type": "code",
   "execution_count": 5,
   "id": "ce330477-df22-45f9-b1f2-b542a723be44",
   "metadata": {},
   "outputs": [],
   "source": [
    "from pyspark.sql.functions import col, when\n",
    "\n",
    "df1 = df.withColumn(\"life_stage\",\n",
    "                    when(col(\"age\") < 13, \"child\")\n",
    "                    .when(col(\"age\").between(13, 19), \"teenager\")\n",
    "                    .otherwise(\"adult\"),\n",
    "                   )"
   ]
  },
  {
   "cell_type": "code",
   "execution_count": 7,
   "id": "9934702b-e836-4e3f-9c80-13f597edd51f",
   "metadata": {},
   "outputs": [],
   "source": [
    "emp = [(1,\"Smith\",-1,\"2018\",\"10\",\"M\",3000), \\\n",
    "    (2,\"Rose\",1,\"2010\",\"20\",\"M\",4000), \\\n",
    "    (3,\"Williams\",1,\"2010\",\"10\",\"M\",1000), \\\n",
    "    (4,\"Jones\",2,\"2005\",\"10\",\"F\",2000), \\\n",
    "    (5,\"Brown\",2,\"2010\",\"40\",\"\",-1), \\\n",
    "      (6,\"Brown\",2,\"2010\",\"50\",\"\",-1) \\\n",
    "  ]\n",
    "empColumns = [\"emp_id\",\"name\",\"superior_emp_id\",\"year_joined\", \\\n",
    "       \"emp_dept_id\",\"gender\",\"salary\"]\n"
   ]
  },
  {
   "cell_type": "code",
   "execution_count": 8,
   "id": "d42dc18a-446d-44f6-bf5f-2485e1304f22",
   "metadata": {},
   "outputs": [],
   "source": [
    "df2 = spark.createDataFrame(emp,empColumns)"
   ]
  },
  {
   "cell_type": "code",
   "execution_count": 7,
   "id": "53f751eb-3148-4505-b52e-6ee8a8ea677b",
   "metadata": {},
   "outputs": [
    {
     "name": "stdout",
     "output_type": "stream",
     "text": [
      "+----------+---+----------+\n",
      "|first_name|age|life_stage|\n",
      "+----------+---+----------+\n",
      "|       sue| 32|     adult|\n",
      "|       bob| 75|     adult|\n",
      "|       heo| 13|  teenager|\n",
      "+----------+---+----------+\n",
      "\n"
     ]
    }
   ],
   "source": [
    "df1.where(col(\"life_stage\").isin([\"teenager\",\"adult\"])).show()"
   ]
  },
  {
   "cell_type": "code",
   "execution_count": 8,
   "id": "2643103a-e2b2-4c59-897a-90297fb9e34b",
   "metadata": {},
   "outputs": [
    {
     "name": "stderr",
     "output_type": "stream",
     "text": [
      "[Stage 6:=============================>                             (2 + 2) / 4]\r"
     ]
    },
    {
     "name": "stdout",
     "output_type": "stream",
     "text": [
      "+--------+\n",
      "|avg(age)|\n",
      "+--------+\n",
      "|   30.75|\n",
      "+--------+\n",
      "\n"
     ]
    },
    {
     "name": "stderr",
     "output_type": "stream",
     "text": [
      "                                                                                \r"
     ]
    }
   ],
   "source": [
    "from pyspark.sql.functions import avg\n",
    "\n",
    "df1.select(avg(\"age\")).show()"
   ]
  },
  {
   "cell_type": "code",
   "execution_count": 9,
   "id": "b32e3075-08fa-417b-9923-127fca129bbb",
   "metadata": {},
   "outputs": [
    {
     "name": "stderr",
     "output_type": "stream",
     "text": [
      "[Stage 9:============================================>              (3 + 1) / 4]\r"
     ]
    },
    {
     "name": "stdout",
     "output_type": "stream",
     "text": [
      "+----------+--------+\n",
      "|life_stage|avg(age)|\n",
      "+----------+--------+\n",
      "|     adult|    53.5|\n",
      "|     child|     3.0|\n",
      "|  teenager|    13.0|\n",
      "+----------+--------+\n",
      "\n"
     ]
    },
    {
     "name": "stderr",
     "output_type": "stream",
     "text": [
      "                                                                                \r"
     ]
    }
   ],
   "source": [
    "df1.groupBy(\"life_stage\").avg(\"age\").show()"
   ]
  },
  {
   "cell_type": "code",
   "execution_count": 17,
   "id": "7321ba07-64c2-45f0-9f90-ca266d200285",
   "metadata": {},
   "outputs": [
    {
     "name": "stderr",
     "output_type": "stream",
     "text": [
      "                                                                                \r"
     ]
    },
    {
     "name": "stdout",
     "output_type": "stream",
     "text": [
      "+----------+---+----------+\n",
      "|first_name|age|life_stage|\n",
      "+----------+---+----------+\n",
      "|        li|  3|     child|\n",
      "+----------+---+----------+\n",
      "\n"
     ]
    }
   ],
   "source": [
    "df4=df1.where((col(\"age\") > 0) & (col(\"life_stage\")=='child')).show()"
   ]
  },
  {
   "cell_type": "code",
   "execution_count": null,
   "id": "4282d989-519a-4c90-82a8-93173a097837",
   "metadata": {},
   "outputs": [],
   "source": [
    "spark.sql(\"select avg(age) from {x}\",x=df1).show()"
   ]
  },
  {
   "cell_type": "code",
   "execution_count": null,
   "id": "97486b8e-43fd-4d32-85a2-5e8f02758580",
   "metadata": {},
   "outputs": [],
   "source": [
    "df1.write.saveAsTable(\"some_people\")"
   ]
  },
  {
   "cell_type": "code",
   "execution_count": null,
   "id": "d9c87b6a-552a-41e8-af78-71e00eafe5dc",
   "metadata": {},
   "outputs": [],
   "source": [
    "spark.sql(\"select * from some_people\").show()"
   ]
  },
  {
   "cell_type": "code",
   "execution_count": null,
   "id": "8a99ff9d-4c83-4a26-90dd-bfc15f4238ee",
   "metadata": {},
   "outputs": [],
   "source": [
    "spark.sql(\"INSERT INTO some_people VALUES ('frank', 4, 'child')\")"
   ]
  },
  {
   "cell_type": "code",
   "execution_count": null,
   "id": "d8cd54db-dc38-4145-b395-d92e467a9c9d",
   "metadata": {},
   "outputs": [],
   "source": [
    "spark.sql(\"select * from some_people\").show()"
   ]
  },
  {
   "cell_type": "code",
   "execution_count": null,
   "id": "89a62204-67d5-4f41-8d2a-b2876ee6e8b0",
   "metadata": {},
   "outputs": [],
   "source": [
    "spark.sql(\"select * from some_people where life_stage='teenager'\").show()"
   ]
  },
  {
   "cell_type": "code",
   "execution_count": null,
   "id": "848ab2ca-0d18-4c24-9e64-2eff4ef226c9",
   "metadata": {},
   "outputs": [],
   "source": [
    "df = (\n",
    "    spark.readStream.format(\"kafka\")\n",
    "    .option(\"kafka.bootstrap.servers\",\"host1:port1,host2:port2\")\n",
    "    .option(\"subscribe\", subscribeTopic).load()\n",
    "    \n",
    ")"
   ]
  },
  {
   "cell_type": "code",
   "execution_count": null,
   "id": "586c0f20-5ed7-4065-8ab0-d2d9596bd7b7",
   "metadata": {},
   "outputs": [],
   "source": [
    "schema = StructType([\n",
    " StructField(\"student_name\", StringType()),\n",
    " StructField(\"graduation_year\", StringType()),\n",
    " StructField(\"major\", StringType()),\n",
    "])\n",
    "\n",
    "def with_normalized_names(df, schema):\n",
    "    parsed_df = (\n",
    "        df.withColumn(\"json_data\", from_json(col(\"value\").cast(\"string\"), schema))\n",
    "        .withColumn(\"student_name\", col(\"json_data.student_name\"))\n",
    "        .withColumn(\"graduation_year\", col(\"json_data.graduation_year\"))\n",
    "        .withColumn(\"major\", col(\"json_data.major\"))\n",
    "        .drop(col(\"json_data\"))\n",
    "        .drop(col(\"value\"))\n",
    "    )\n",
    "    split_col = split(parsed_df[\"student_name\"], \"XX\")\n",
    "    return (\n",
    "        parsed_df.withColumn(\"first_name\", split_col.getItem(0))\n",
    "        .withColumn(\"last_name\", split_col.getItem(1))\n",
    "        .drop(\"student_name\")\n",
    "    )\n"
   ]
  },
  {
   "cell_type": "code",
   "execution_count": null,
   "id": "af7c272a-03d5-449b-9625-3ce0ae13b598",
   "metadata": {},
   "outputs": [],
   "source": [
    "./bin/spark-submit examples/src/main/python/sql/streaming/structured_network_wordcount.py localhost 9999"
   ]
  },
  {
   "cell_type": "code",
   "execution_count": 3,
   "id": "27700a17-897c-403a-9fe8-b953501121c4",
   "metadata": {},
   "outputs": [],
   "source": [
    "\n",
    "\n",
    "# New Dataframe queries"
   ]
  },
  {
   "cell_type": "code",
   "execution_count": 4,
   "id": "2b3c07d0-1f0a-460b-a516-0da5384ee5c7",
   "metadata": {},
   "outputs": [
    {
     "name": "stderr",
     "output_type": "stream",
     "text": [
      "                                                                                \r"
     ]
    }
   ],
   "source": [
    "train_df = spark.read.load(\"../Datasets/train.csv\", format=\"csv\", inferSchema=\"True\", header=\"True\")"
   ]
  },
  {
   "cell_type": "code",
   "execution_count": 5,
   "id": "0af88783-e4e5-4d3e-b773-541a4e074f35",
   "metadata": {},
   "outputs": [],
   "source": [
    "df2 = train_df"
   ]
  },
  {
   "cell_type": "code",
   "execution_count": 6,
   "id": "6bc335aa-c72a-405c-9d06-c51ae5d758f1",
   "metadata": {},
   "outputs": [
    {
     "name": "stderr",
     "output_type": "stream",
     "text": [
      "24/01/23 04:00:04 WARN SparkStringUtils: Truncated the string representation of a plan since it was too large. This behavior can be adjusted by setting 'spark.sql.debug.maxToStringFields'.\n"
     ]
    },
    {
     "name": "stdout",
     "output_type": "stream",
     "text": [
      "+---+----------+--------+-----------+-------+------+-----+--------+-----------+---------+---------+---------+------------+----------+----------+--------+----------+-----------+-----------+---------+------------+---------+--------+-----------+-----------+----------+----------+---------+---------+----------+--------+--------+------------+------------+----------+------------+----------+---------+-----------+-------+---------+----------+----------+--------+--------+------------+---------+------------+------------+--------+--------+------------+------------+-----------+------------+----------+----------+-----------+----------+-----------+------------+----------+----------+----------+----------+----------+----------+-----------+-------------+---------+-----------+--------+------+-----+-----------+-------+------+------+--------+-------------+---------+\n",
      "| Id|MSSubClass|MSZoning|LotFrontage|LotArea|Street|Alley|LotShape|LandContour|Utilities|LotConfig|LandSlope|Neighborhood|Condition1|Condition2|BldgType|HouseStyle|OverallQual|OverallCond|YearBuilt|YearRemodAdd|RoofStyle|RoofMatl|Exterior1st|Exterior2nd|MasVnrType|MasVnrArea|ExterQual|ExterCond|Foundation|BsmtQual|BsmtCond|BsmtExposure|BsmtFinType1|BsmtFinSF1|BsmtFinType2|BsmtFinSF2|BsmtUnfSF|TotalBsmtSF|Heating|HeatingQC|CentralAir|Electrical|1stFlrSF|2ndFlrSF|LowQualFinSF|GrLivArea|BsmtFullBath|BsmtHalfBath|FullBath|HalfBath|BedroomAbvGr|KitchenAbvGr|KitchenQual|TotRmsAbvGrd|Functional|Fireplaces|FireplaceQu|GarageType|GarageYrBlt|GarageFinish|GarageCars|GarageArea|GarageQual|GarageCond|PavedDrive|WoodDeckSF|OpenPorchSF|EnclosedPorch|3SsnPorch|ScreenPorch|PoolArea|PoolQC|Fence|MiscFeature|MiscVal|MoSold|YrSold|SaleType|SaleCondition|SalePrice|\n",
      "+---+----------+--------+-----------+-------+------+-----+--------+-----------+---------+---------+---------+------------+----------+----------+--------+----------+-----------+-----------+---------+------------+---------+--------+-----------+-----------+----------+----------+---------+---------+----------+--------+--------+------------+------------+----------+------------+----------+---------+-----------+-------+---------+----------+----------+--------+--------+------------+---------+------------+------------+--------+--------+------------+------------+-----------+------------+----------+----------+-----------+----------+-----------+------------+----------+----------+----------+----------+----------+----------+-----------+-------------+---------+-----------+--------+------+-----+-----------+-------+------+------+--------+-------------+---------+\n",
      "|  1|        60|      RL|         65|   8450|  Pave|   NA|     Reg|        Lvl|   AllPub|   Inside|      Gtl|     CollgCr|      Norm|      Norm|    1Fam|    2Story|          7|          5|     2003|        2003|    Gable| CompShg|    VinylSd|    VinylSd|   BrkFace|       196|       Gd|       TA|     PConc|      Gd|      TA|          No|         GLQ|       706|         Unf|         0|      150|        856|   GasA|       Ex|         Y|     SBrkr|     856|     854|           0|     1710|           1|           0|       2|       1|           3|           1|         Gd|           8|       Typ|         0|         NA|    Attchd|       2003|         RFn|         2|       548|        TA|        TA|         Y|         0|         61|            0|        0|          0|       0|    NA|   NA|         NA|      0|     2|  2008|      WD|       Normal|   208500|\n",
      "|  2|        20|      RL|         80|   9600|  Pave|   NA|     Reg|        Lvl|   AllPub|      FR2|      Gtl|     Veenker|     Feedr|      Norm|    1Fam|    1Story|          6|          8|     1976|        1976|    Gable| CompShg|    MetalSd|    MetalSd|      None|         0|       TA|       TA|    CBlock|      Gd|      TA|          Gd|         ALQ|       978|         Unf|         0|      284|       1262|   GasA|       Ex|         Y|     SBrkr|    1262|       0|           0|     1262|           0|           1|       2|       0|           3|           1|         TA|           6|       Typ|         1|         TA|    Attchd|       1976|         RFn|         2|       460|        TA|        TA|         Y|       298|          0|            0|        0|          0|       0|    NA|   NA|         NA|      0|     5|  2007|      WD|       Normal|   181500|\n",
      "|  3|        60|      RL|         68|  11250|  Pave|   NA|     IR1|        Lvl|   AllPub|   Inside|      Gtl|     CollgCr|      Norm|      Norm|    1Fam|    2Story|          7|          5|     2001|        2002|    Gable| CompShg|    VinylSd|    VinylSd|   BrkFace|       162|       Gd|       TA|     PConc|      Gd|      TA|          Mn|         GLQ|       486|         Unf|         0|      434|        920|   GasA|       Ex|         Y|     SBrkr|     920|     866|           0|     1786|           1|           0|       2|       1|           3|           1|         Gd|           6|       Typ|         1|         TA|    Attchd|       2001|         RFn|         2|       608|        TA|        TA|         Y|         0|         42|            0|        0|          0|       0|    NA|   NA|         NA|      0|     9|  2008|      WD|       Normal|   223500|\n",
      "|  4|        70|      RL|         60|   9550|  Pave|   NA|     IR1|        Lvl|   AllPub|   Corner|      Gtl|     Crawfor|      Norm|      Norm|    1Fam|    2Story|          7|          5|     1915|        1970|    Gable| CompShg|    Wd Sdng|    Wd Shng|      None|         0|       TA|       TA|    BrkTil|      TA|      Gd|          No|         ALQ|       216|         Unf|         0|      540|        756|   GasA|       Gd|         Y|     SBrkr|     961|     756|           0|     1717|           1|           0|       1|       0|           3|           1|         Gd|           7|       Typ|         1|         Gd|    Detchd|       1998|         Unf|         3|       642|        TA|        TA|         Y|         0|         35|          272|        0|          0|       0|    NA|   NA|         NA|      0|     2|  2006|      WD|      Abnorml|   140000|\n",
      "|  5|        60|      RL|         84|  14260|  Pave|   NA|     IR1|        Lvl|   AllPub|      FR2|      Gtl|     NoRidge|      Norm|      Norm|    1Fam|    2Story|          8|          5|     2000|        2000|    Gable| CompShg|    VinylSd|    VinylSd|   BrkFace|       350|       Gd|       TA|     PConc|      Gd|      TA|          Av|         GLQ|       655|         Unf|         0|      490|       1145|   GasA|       Ex|         Y|     SBrkr|    1145|    1053|           0|     2198|           1|           0|       2|       1|           4|           1|         Gd|           9|       Typ|         1|         TA|    Attchd|       2000|         RFn|         3|       836|        TA|        TA|         Y|       192|         84|            0|        0|          0|       0|    NA|   NA|         NA|      0|    12|  2008|      WD|       Normal|   250000|\n",
      "|  6|        50|      RL|         85|  14115|  Pave|   NA|     IR1|        Lvl|   AllPub|   Inside|      Gtl|     Mitchel|      Norm|      Norm|    1Fam|    1.5Fin|          5|          5|     1993|        1995|    Gable| CompShg|    VinylSd|    VinylSd|      None|         0|       TA|       TA|      Wood|      Gd|      TA|          No|         GLQ|       732|         Unf|         0|       64|        796|   GasA|       Ex|         Y|     SBrkr|     796|     566|           0|     1362|           1|           0|       1|       1|           1|           1|         TA|           5|       Typ|         0|         NA|    Attchd|       1993|         Unf|         2|       480|        TA|        TA|         Y|        40|         30|            0|      320|          0|       0|    NA|MnPrv|       Shed|    700|    10|  2009|      WD|       Normal|   143000|\n",
      "|  7|        20|      RL|         75|  10084|  Pave|   NA|     Reg|        Lvl|   AllPub|   Inside|      Gtl|     Somerst|      Norm|      Norm|    1Fam|    1Story|          8|          5|     2004|        2005|    Gable| CompShg|    VinylSd|    VinylSd|     Stone|       186|       Gd|       TA|     PConc|      Ex|      TA|          Av|         GLQ|      1369|         Unf|         0|      317|       1686|   GasA|       Ex|         Y|     SBrkr|    1694|       0|           0|     1694|           1|           0|       2|       0|           3|           1|         Gd|           7|       Typ|         1|         Gd|    Attchd|       2004|         RFn|         2|       636|        TA|        TA|         Y|       255|         57|            0|        0|          0|       0|    NA|   NA|         NA|      0|     8|  2007|      WD|       Normal|   307000|\n",
      "|  8|        60|      RL|         NA|  10382|  Pave|   NA|     IR1|        Lvl|   AllPub|   Corner|      Gtl|      NWAmes|      PosN|      Norm|    1Fam|    2Story|          7|          6|     1973|        1973|    Gable| CompShg|    HdBoard|    HdBoard|     Stone|       240|       TA|       TA|    CBlock|      Gd|      TA|          Mn|         ALQ|       859|         BLQ|        32|      216|       1107|   GasA|       Ex|         Y|     SBrkr|    1107|     983|           0|     2090|           1|           0|       2|       1|           3|           1|         TA|           7|       Typ|         2|         TA|    Attchd|       1973|         RFn|         2|       484|        TA|        TA|         Y|       235|        204|          228|        0|          0|       0|    NA|   NA|       Shed|    350|    11|  2009|      WD|       Normal|   200000|\n",
      "|  9|        50|      RM|         51|   6120|  Pave|   NA|     Reg|        Lvl|   AllPub|   Inside|      Gtl|     OldTown|    Artery|      Norm|    1Fam|    1.5Fin|          7|          5|     1931|        1950|    Gable| CompShg|    BrkFace|    Wd Shng|      None|         0|       TA|       TA|    BrkTil|      TA|      TA|          No|         Unf|         0|         Unf|         0|      952|        952|   GasA|       Gd|         Y|     FuseF|    1022|     752|           0|     1774|           0|           0|       2|       0|           2|           2|         TA|           8|      Min1|         2|         TA|    Detchd|       1931|         Unf|         2|       468|        Fa|        TA|         Y|        90|          0|          205|        0|          0|       0|    NA|   NA|         NA|      0|     4|  2008|      WD|      Abnorml|   129900|\n",
      "| 10|       190|      RL|         50|   7420|  Pave|   NA|     Reg|        Lvl|   AllPub|   Corner|      Gtl|     BrkSide|    Artery|    Artery|  2fmCon|    1.5Unf|          5|          6|     1939|        1950|    Gable| CompShg|    MetalSd|    MetalSd|      None|         0|       TA|       TA|    BrkTil|      TA|      TA|          No|         GLQ|       851|         Unf|         0|      140|        991|   GasA|       Ex|         Y|     SBrkr|    1077|       0|           0|     1077|           1|           0|       1|       0|           2|           2|         TA|           5|       Typ|         2|         TA|    Attchd|       1939|         RFn|         1|       205|        Gd|        TA|         Y|         0|          4|            0|        0|          0|       0|    NA|   NA|         NA|      0|     1|  2008|      WD|       Normal|   118000|\n",
      "| 11|        20|      RL|         70|  11200|  Pave|   NA|     Reg|        Lvl|   AllPub|   Inside|      Gtl|      Sawyer|      Norm|      Norm|    1Fam|    1Story|          5|          5|     1965|        1965|      Hip| CompShg|    HdBoard|    HdBoard|      None|         0|       TA|       TA|    CBlock|      TA|      TA|          No|         Rec|       906|         Unf|         0|      134|       1040|   GasA|       Ex|         Y|     SBrkr|    1040|       0|           0|     1040|           1|           0|       1|       0|           3|           1|         TA|           5|       Typ|         0|         NA|    Detchd|       1965|         Unf|         1|       384|        TA|        TA|         Y|         0|          0|            0|        0|          0|       0|    NA|   NA|         NA|      0|     2|  2008|      WD|       Normal|   129500|\n",
      "| 12|        60|      RL|         85|  11924|  Pave|   NA|     IR1|        Lvl|   AllPub|   Inside|      Gtl|     NridgHt|      Norm|      Norm|    1Fam|    2Story|          9|          5|     2005|        2006|      Hip| CompShg|    WdShing|    Wd Shng|     Stone|       286|       Ex|       TA|     PConc|      Ex|      TA|          No|         GLQ|       998|         Unf|         0|      177|       1175|   GasA|       Ex|         Y|     SBrkr|    1182|    1142|           0|     2324|           1|           0|       3|       0|           4|           1|         Ex|          11|       Typ|         2|         Gd|   BuiltIn|       2005|         Fin|         3|       736|        TA|        TA|         Y|       147|         21|            0|        0|          0|       0|    NA|   NA|         NA|      0|     7|  2006|     New|      Partial|   345000|\n",
      "| 13|        20|      RL|         NA|  12968|  Pave|   NA|     IR2|        Lvl|   AllPub|   Inside|      Gtl|      Sawyer|      Norm|      Norm|    1Fam|    1Story|          5|          6|     1962|        1962|      Hip| CompShg|    HdBoard|    Plywood|      None|         0|       TA|       TA|    CBlock|      TA|      TA|          No|         ALQ|       737|         Unf|         0|      175|        912|   GasA|       TA|         Y|     SBrkr|     912|       0|           0|      912|           1|           0|       1|       0|           2|           1|         TA|           4|       Typ|         0|         NA|    Detchd|       1962|         Unf|         1|       352|        TA|        TA|         Y|       140|          0|            0|        0|        176|       0|    NA|   NA|         NA|      0|     9|  2008|      WD|       Normal|   144000|\n",
      "| 14|        20|      RL|         91|  10652|  Pave|   NA|     IR1|        Lvl|   AllPub|   Inside|      Gtl|     CollgCr|      Norm|      Norm|    1Fam|    1Story|          7|          5|     2006|        2007|    Gable| CompShg|    VinylSd|    VinylSd|     Stone|       306|       Gd|       TA|     PConc|      Gd|      TA|          Av|         Unf|         0|         Unf|         0|     1494|       1494|   GasA|       Ex|         Y|     SBrkr|    1494|       0|           0|     1494|           0|           0|       2|       0|           3|           1|         Gd|           7|       Typ|         1|         Gd|    Attchd|       2006|         RFn|         3|       840|        TA|        TA|         Y|       160|         33|            0|        0|          0|       0|    NA|   NA|         NA|      0|     8|  2007|     New|      Partial|   279500|\n",
      "| 15|        20|      RL|         NA|  10920|  Pave|   NA|     IR1|        Lvl|   AllPub|   Corner|      Gtl|       NAmes|      Norm|      Norm|    1Fam|    1Story|          6|          5|     1960|        1960|      Hip| CompShg|    MetalSd|    MetalSd|   BrkFace|       212|       TA|       TA|    CBlock|      TA|      TA|          No|         BLQ|       733|         Unf|         0|      520|       1253|   GasA|       TA|         Y|     SBrkr|    1253|       0|           0|     1253|           1|           0|       1|       1|           2|           1|         TA|           5|       Typ|         1|         Fa|    Attchd|       1960|         RFn|         1|       352|        TA|        TA|         Y|         0|        213|          176|        0|          0|       0|    NA| GdWo|         NA|      0|     5|  2008|      WD|       Normal|   157000|\n",
      "| 16|        45|      RM|         51|   6120|  Pave|   NA|     Reg|        Lvl|   AllPub|   Corner|      Gtl|     BrkSide|      Norm|      Norm|    1Fam|    1.5Unf|          7|          8|     1929|        2001|    Gable| CompShg|    Wd Sdng|    Wd Sdng|      None|         0|       TA|       TA|    BrkTil|      TA|      TA|          No|         Unf|         0|         Unf|         0|      832|        832|   GasA|       Ex|         Y|     FuseA|     854|       0|           0|      854|           0|           0|       1|       0|           2|           1|         TA|           5|       Typ|         0|         NA|    Detchd|       1991|         Unf|         2|       576|        TA|        TA|         Y|        48|        112|            0|        0|          0|       0|    NA|GdPrv|         NA|      0|     7|  2007|      WD|       Normal|   132000|\n",
      "| 17|        20|      RL|         NA|  11241|  Pave|   NA|     IR1|        Lvl|   AllPub|  CulDSac|      Gtl|       NAmes|      Norm|      Norm|    1Fam|    1Story|          6|          7|     1970|        1970|    Gable| CompShg|    Wd Sdng|    Wd Sdng|   BrkFace|       180|       TA|       TA|    CBlock|      TA|      TA|          No|         ALQ|       578|         Unf|         0|      426|       1004|   GasA|       Ex|         Y|     SBrkr|    1004|       0|           0|     1004|           1|           0|       1|       0|           2|           1|         TA|           5|       Typ|         1|         TA|    Attchd|       1970|         Fin|         2|       480|        TA|        TA|         Y|         0|          0|            0|        0|          0|       0|    NA|   NA|       Shed|    700|     3|  2010|      WD|       Normal|   149000|\n",
      "| 18|        90|      RL|         72|  10791|  Pave|   NA|     Reg|        Lvl|   AllPub|   Inside|      Gtl|      Sawyer|      Norm|      Norm|  Duplex|    1Story|          4|          5|     1967|        1967|    Gable| CompShg|    MetalSd|    MetalSd|      None|         0|       TA|       TA|      Slab|      NA|      NA|          NA|          NA|         0|          NA|         0|        0|          0|   GasA|       TA|         Y|     SBrkr|    1296|       0|           0|     1296|           0|           0|       2|       0|           2|           2|         TA|           6|       Typ|         0|         NA|   CarPort|       1967|         Unf|         2|       516|        TA|        TA|         Y|         0|          0|            0|        0|          0|       0|    NA|   NA|       Shed|    500|    10|  2006|      WD|       Normal|    90000|\n",
      "| 19|        20|      RL|         66|  13695|  Pave|   NA|     Reg|        Lvl|   AllPub|   Inside|      Gtl|     SawyerW|      RRAe|      Norm|    1Fam|    1Story|          5|          5|     2004|        2004|    Gable| CompShg|    VinylSd|    VinylSd|      None|         0|       TA|       TA|     PConc|      TA|      TA|          No|         GLQ|       646|         Unf|         0|      468|       1114|   GasA|       Ex|         Y|     SBrkr|    1114|       0|           0|     1114|           1|           0|       1|       1|           3|           1|         Gd|           6|       Typ|         0|         NA|    Detchd|       2004|         Unf|         2|       576|        TA|        TA|         Y|         0|        102|            0|        0|          0|       0|    NA|   NA|         NA|      0|     6|  2008|      WD|       Normal|   159000|\n",
      "| 20|        20|      RL|         70|   7560|  Pave|   NA|     Reg|        Lvl|   AllPub|   Inside|      Gtl|       NAmes|      Norm|      Norm|    1Fam|    1Story|          5|          6|     1958|        1965|      Hip| CompShg|    BrkFace|    Plywood|      None|         0|       TA|       TA|    CBlock|      TA|      TA|          No|         LwQ|       504|         Unf|         0|      525|       1029|   GasA|       TA|         Y|     SBrkr|    1339|       0|           0|     1339|           0|           0|       1|       0|           3|           1|         TA|           6|      Min1|         0|         NA|    Attchd|       1958|         Unf|         1|       294|        TA|        TA|         Y|         0|          0|            0|        0|          0|       0|    NA|MnPrv|         NA|      0|     5|  2009|     COD|      Abnorml|   139000|\n",
      "+---+----------+--------+-----------+-------+------+-----+--------+-----------+---------+---------+---------+------------+----------+----------+--------+----------+-----------+-----------+---------+------------+---------+--------+-----------+-----------+----------+----------+---------+---------+----------+--------+--------+------------+------------+----------+------------+----------+---------+-----------+-------+---------+----------+----------+--------+--------+------------+---------+------------+------------+--------+--------+------------+------------+-----------+------------+----------+----------+-----------+----------+-----------+------------+----------+----------+----------+----------+----------+----------+-----------+-------------+---------+-----------+--------+------+-----+-----------+-------+------+------+--------+-------------+---------+\n",
      "only showing top 20 rows\n",
      "\n"
     ]
    }
   ],
   "source": [
    "df2.show()"
   ]
  },
  {
   "cell_type": "code",
   "execution_count": 7,
   "id": "0c8b0f99-ea2b-45cc-8821-5a6251223119",
   "metadata": {},
   "outputs": [
    {
     "name": "stdout",
     "output_type": "stream",
     "text": [
      "root\n",
      " |-- Id: integer (nullable = true)\n",
      " |-- MSSubClass: integer (nullable = true)\n",
      " |-- MSZoning: string (nullable = true)\n",
      " |-- LotFrontage: string (nullable = true)\n",
      " |-- LotArea: integer (nullable = true)\n",
      " |-- Street: string (nullable = true)\n",
      " |-- Alley: string (nullable = true)\n",
      " |-- LotShape: string (nullable = true)\n",
      " |-- LandContour: string (nullable = true)\n",
      " |-- Utilities: string (nullable = true)\n",
      " |-- LotConfig: string (nullable = true)\n",
      " |-- LandSlope: string (nullable = true)\n",
      " |-- Neighborhood: string (nullable = true)\n",
      " |-- Condition1: string (nullable = true)\n",
      " |-- Condition2: string (nullable = true)\n",
      " |-- BldgType: string (nullable = true)\n",
      " |-- HouseStyle: string (nullable = true)\n",
      " |-- OverallQual: integer (nullable = true)\n",
      " |-- OverallCond: integer (nullable = true)\n",
      " |-- YearBuilt: integer (nullable = true)\n",
      " |-- YearRemodAdd: integer (nullable = true)\n",
      " |-- RoofStyle: string (nullable = true)\n",
      " |-- RoofMatl: string (nullable = true)\n",
      " |-- Exterior1st: string (nullable = true)\n",
      " |-- Exterior2nd: string (nullable = true)\n",
      " |-- MasVnrType: string (nullable = true)\n",
      " |-- MasVnrArea: string (nullable = true)\n",
      " |-- ExterQual: string (nullable = true)\n",
      " |-- ExterCond: string (nullable = true)\n",
      " |-- Foundation: string (nullable = true)\n",
      " |-- BsmtQual: string (nullable = true)\n",
      " |-- BsmtCond: string (nullable = true)\n",
      " |-- BsmtExposure: string (nullable = true)\n",
      " |-- BsmtFinType1: string (nullable = true)\n",
      " |-- BsmtFinSF1: integer (nullable = true)\n",
      " |-- BsmtFinType2: string (nullable = true)\n",
      " |-- BsmtFinSF2: integer (nullable = true)\n",
      " |-- BsmtUnfSF: integer (nullable = true)\n",
      " |-- TotalBsmtSF: integer (nullable = true)\n",
      " |-- Heating: string (nullable = true)\n",
      " |-- HeatingQC: string (nullable = true)\n",
      " |-- CentralAir: string (nullable = true)\n",
      " |-- Electrical: string (nullable = true)\n",
      " |-- 1stFlrSF: integer (nullable = true)\n",
      " |-- 2ndFlrSF: integer (nullable = true)\n",
      " |-- LowQualFinSF: integer (nullable = true)\n",
      " |-- GrLivArea: integer (nullable = true)\n",
      " |-- BsmtFullBath: integer (nullable = true)\n",
      " |-- BsmtHalfBath: integer (nullable = true)\n",
      " |-- FullBath: integer (nullable = true)\n",
      " |-- HalfBath: integer (nullable = true)\n",
      " |-- BedroomAbvGr: integer (nullable = true)\n",
      " |-- KitchenAbvGr: integer (nullable = true)\n",
      " |-- KitchenQual: string (nullable = true)\n",
      " |-- TotRmsAbvGrd: integer (nullable = true)\n",
      " |-- Functional: string (nullable = true)\n",
      " |-- Fireplaces: integer (nullable = true)\n",
      " |-- FireplaceQu: string (nullable = true)\n",
      " |-- GarageType: string (nullable = true)\n",
      " |-- GarageYrBlt: string (nullable = true)\n",
      " |-- GarageFinish: string (nullable = true)\n",
      " |-- GarageCars: integer (nullable = true)\n",
      " |-- GarageArea: integer (nullable = true)\n",
      " |-- GarageQual: string (nullable = true)\n",
      " |-- GarageCond: string (nullable = true)\n",
      " |-- PavedDrive: string (nullable = true)\n",
      " |-- WoodDeckSF: integer (nullable = true)\n",
      " |-- OpenPorchSF: integer (nullable = true)\n",
      " |-- EnclosedPorch: integer (nullable = true)\n",
      " |-- 3SsnPorch: integer (nullable = true)\n",
      " |-- ScreenPorch: integer (nullable = true)\n",
      " |-- PoolArea: integer (nullable = true)\n",
      " |-- PoolQC: string (nullable = true)\n",
      " |-- Fence: string (nullable = true)\n",
      " |-- MiscFeature: string (nullable = true)\n",
      " |-- MiscVal: integer (nullable = true)\n",
      " |-- MoSold: integer (nullable = true)\n",
      " |-- YrSold: integer (nullable = true)\n",
      " |-- SaleType: string (nullable = true)\n",
      " |-- SaleCondition: string (nullable = true)\n",
      " |-- SalePrice: integer (nullable = true)\n",
      "\n"
     ]
    }
   ],
   "source": [
    "df2.printSchema()"
   ]
  },
  {
   "cell_type": "code",
   "execution_count": 16,
   "id": "20db70ad-6cef-4c87-b83e-e7ca2f2c582f",
   "metadata": {},
   "outputs": [
    {
     "data": {
      "text/plain": [
       "0"
      ]
     },
     "execution_count": 16,
     "metadata": {},
     "output_type": "execute_result"
    }
   ],
   "source": [
    "df2.select(df2[\"LotFrontAge\"]).distinct().filter(\"LotFrontAge like '%a'\").count()"
   ]
  },
  {
   "cell_type": "code",
   "execution_count": 19,
   "id": "6f9f4324-c365-46d6-9dd1-d573f2cffd63",
   "metadata": {},
   "outputs": [
    {
     "data": {
      "text/plain": [
       "[Row(LotFrontAge='51'),\n",
       " Row(LotFrontAge='124'),\n",
       " Row(LotFrontAge='54'),\n",
       " Row(LotFrontAge='101'),\n",
       " Row(LotFrontAge='138'),\n",
       " Row(LotFrontAge='69'),\n",
       " Row(LotFrontAge='112'),\n",
       " Row(LotFrontAge='42'),\n",
       " Row(LotFrontAge='73'),\n",
       " Row(LotFrontAge='87'),\n",
       " Row(LotFrontAge='64'),\n",
       " Row(LotFrontAge='30'),\n",
       " Row(LotFrontAge='34'),\n",
       " Row(LotFrontAge='59'),\n",
       " Row(LotFrontAge='160'),\n",
       " Row(LotFrontAge='85'),\n",
       " Row(LotFrontAge='52'),\n",
       " Row(LotFrontAge='35'),\n",
       " Row(LotFrontAge='NA'),\n",
       " Row(LotFrontAge='71'),\n",
       " Row(LotFrontAge='98'),\n",
       " Row(LotFrontAge='47'),\n",
       " Row(LotFrontAge='99'),\n",
       " Row(LotFrontAge='110'),\n",
       " Row(LotFrontAge='107'),\n",
       " Row(LotFrontAge='96'),\n",
       " Row(LotFrontAge='43'),\n",
       " Row(LotFrontAge='100'),\n",
       " Row(LotFrontAge='70'),\n",
       " Row(LotFrontAge='174')]"
      ]
     },
     "execution_count": 19,
     "metadata": {},
     "output_type": "execute_result"
    }
   ],
   "source": [
    "df2.select(df2[\"LotFrontAge\"]).distinct().take(30)"
   ]
  },
  {
   "cell_type": "code",
   "execution_count": 20,
   "id": "4047054e-e1ee-4402-8e99-c6f51ea3db92",
   "metadata": {},
   "outputs": [
    {
     "data": {
      "text/plain": [
       "111"
      ]
     },
     "execution_count": 20,
     "metadata": {},
     "output_type": "execute_result"
    }
   ],
   "source": [
    "df2.select(df2[\"LotFrontAge\"]).distinct().where(\"LotFrontAge like '%'\").count()"
   ]
  },
  {
   "cell_type": "code",
   "execution_count": 26,
   "id": "3f77b999-0b47-42fb-b345-3bfb90468584",
   "metadata": {},
   "outputs": [
    {
     "data": {
      "text/plain": [
       "467"
      ]
     },
     "execution_count": 26,
     "metadata": {},
     "output_type": "execute_result"
    }
   ],
   "source": [
    "df2.filter(\"YearBuilt > 1995\").count()"
   ]
  },
  {
   "cell_type": "code",
   "execution_count": null,
   "id": "3a11ba8b-10b2-4c2e-8912-789ce522e6d2",
   "metadata": {},
   "outputs": [],
   "source": []
  }
 ],
 "metadata": {
  "kernelspec": {
   "display_name": "Python 3 (ipykernel)",
   "language": "python",
   "name": "python3"
  },
  "language_info": {
   "codemirror_mode": {
    "name": "ipython",
    "version": 3
   },
   "file_extension": ".py",
   "mimetype": "text/x-python",
   "name": "python",
   "nbconvert_exporter": "python",
   "pygments_lexer": "ipython3",
   "version": "3.11.7"
  }
 },
 "nbformat": 4,
 "nbformat_minor": 5
}
