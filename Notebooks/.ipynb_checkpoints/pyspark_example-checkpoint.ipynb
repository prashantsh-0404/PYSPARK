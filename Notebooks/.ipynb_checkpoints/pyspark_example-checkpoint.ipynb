{
 "cells": [
  {
   "cell_type": "code",
   "execution_count": 2,
   "id": "ace240a3-05c8-48db-9fdf-259af68abb6c",
   "metadata": {},
   "outputs": [],
   "source": [
    "from pyspark.sql import SparkSession"
   ]
  },
  {
   "cell_type": "code",
   "execution_count": 2,
   "id": "acf5752b-8e9e-4c8f-9427-99c4f74cb3ed",
   "metadata": {},
   "outputs": [
    {
     "name": "stderr",
     "output_type": "stream",
     "text": [
      "Setting default log level to \"WARN\".\n",
      "To adjust logging level use sc.setLogLevel(newLevel). For SparkR, use setLogLevel(newLevel).\n",
      "24/01/15 02:53:24 WARN NativeCodeLoader: Unable to load native-hadoop library for your platform... using builtin-java classes where applicable\n"
     ]
    }
   ],
   "source": [
    "spark = SparkSession.builder.appName(\"demo\").getOrCreate()"
   ]
  },
  {
   "cell_type": "code",
   "execution_count": 3,
   "id": "5a2ec332-ff37-447c-955a-826eb4b63712",
   "metadata": {},
   "outputs": [
    {
     "name": "stderr",
     "output_type": "stream",
     "text": [
      "Setting default log level to \"WARN\".\n",
      "To adjust logging level use sc.setLogLevel(newLevel). For SparkR, use setLogLevel(newLevel).\n",
      "24/01/18 04:47:12 WARN NativeCodeLoader: Unable to load native-hadoop library for your platform... using builtin-java classes where applicable\n"
     ]
    }
   ],
   "source": [
    "spark = SparkSession.builder.appName(\"demo\").getOrCreate()"
   ]
  },
  {
   "cell_type": "code",
   "execution_count": 4,
   "id": "c165b534-08a1-4e1e-a475-bd65aa546307",
   "metadata": {},
   "outputs": [],
   "source": [
    "df = spark.createDataFrame(\n",
    "    [\n",
    "        (\"sue\", 32),\n",
    "        (\"li\", 3),\n",
    "        (\"bob\", 75),\n",
    "        (\"heo\", 13),\n",
    "    ],\n",
    "    [\"first_name\", \"age\"],\n",
    ")"
   ]
  },
  {
   "cell_type": "code",
   "execution_count": 5,
   "id": "4cb1d068-eb2b-42e2-a8f8-49fe1d55729f",
   "metadata": {},
   "outputs": [
    {
     "name": "stderr",
     "output_type": "stream",
     "text": [
      "                                                                                \r"
     ]
    },
    {
     "name": "stdout",
     "output_type": "stream",
     "text": [
      "+----------+---+\n",
      "|first_name|age|\n",
      "+----------+---+\n",
      "|       sue| 32|\n",
      "|        li|  3|\n",
      "|       bob| 75|\n",
      "|       heo| 13|\n",
      "+----------+---+\n",
      "\n"
     ]
    }
   ],
   "source": [
    "df.show()"
   ]
  },
  {
   "cell_type": "code",
   "execution_count": 5,
   "id": "ce330477-df22-45f9-b1f2-b542a723be44",
   "metadata": {},
   "outputs": [],
   "source": [
    "from pyspark.sql.functions import col, when\n",
    "\n",
    "df1 = df.withColumn(\"life_stage\",\n",
    "                    when(col(\"age\") < 13, \"child\")\n",
    "                    .when(col(\"age\").between(13, 19), \"teenager\")\n",
    "                    .otherwise(\"adult\"),\n",
    "                   )"
   ]
  },
  {
   "cell_type": "code",
   "execution_count": 7,
   "id": "9934702b-e836-4e3f-9c80-13f597edd51f",
   "metadata": {},
   "outputs": [],
   "source": [
    "emp = [(1,\"Smith\",-1,\"2018\",\"10\",\"M\",3000), \\\n",
    "    (2,\"Rose\",1,\"2010\",\"20\",\"M\",4000), \\\n",
    "    (3,\"Williams\",1,\"2010\",\"10\",\"M\",1000), \\\n",
    "    (4,\"Jones\",2,\"2005\",\"10\",\"F\",2000), \\\n",
    "    (5,\"Brown\",2,\"2010\",\"40\",\"\",-1), \\\n",
    "      (6,\"Brown\",2,\"2010\",\"50\",\"\",-1) \\\n",
    "  ]\n",
    "empColumns = [\"emp_id\",\"name\",\"superior_emp_id\",\"year_joined\", \\\n",
    "       \"emp_dept_id\",\"gender\",\"salary\"]\n"
   ]
  },
  {
   "cell_type": "code",
   "execution_count": 8,
   "id": "d42dc18a-446d-44f6-bf5f-2485e1304f22",
   "metadata": {},
   "outputs": [],
   "source": [
    "df2 = spark.createDataFrame(emp,empColumns)"
   ]
  },
  {
   "cell_type": "code",
   "execution_count": 7,
   "id": "53f751eb-3148-4505-b52e-6ee8a8ea677b",
   "metadata": {},
   "outputs": [
    {
     "name": "stdout",
     "output_type": "stream",
     "text": [
      "+----------+---+----------+\n",
      "|first_name|age|life_stage|\n",
      "+----------+---+----------+\n",
      "|       sue| 32|     adult|\n",
      "|       bob| 75|     adult|\n",
      "|       heo| 13|  teenager|\n",
      "+----------+---+----------+\n",
      "\n"
     ]
    }
   ],
   "source": [
    "df1.where(col(\"life_stage\").isin([\"teenager\",\"adult\"])).show()"
   ]
  },
  {
   "cell_type": "code",
   "execution_count": 8,
   "id": "2643103a-e2b2-4c59-897a-90297fb9e34b",
   "metadata": {},
   "outputs": [
    {
     "name": "stderr",
     "output_type": "stream",
     "text": [
      "[Stage 6:=============================>                             (2 + 2) / 4]\r"
     ]
    },
    {
     "name": "stdout",
     "output_type": "stream",
     "text": [
      "+--------+\n",
      "|avg(age)|\n",
      "+--------+\n",
      "|   30.75|\n",
      "+--------+\n",
      "\n"
     ]
    },
    {
     "name": "stderr",
     "output_type": "stream",
     "text": [
      "                                                                                \r"
     ]
    }
   ],
   "source": [
    "from pyspark.sql.functions import avg\n",
    "\n",
    "df1.select(avg(\"age\")).show()"
   ]
  },
  {
   "cell_type": "code",
   "execution_count": 9,
   "id": "b32e3075-08fa-417b-9923-127fca129bbb",
   "metadata": {},
   "outputs": [
    {
     "name": "stderr",
     "output_type": "stream",
     "text": [
      "[Stage 9:============================================>              (3 + 1) / 4]\r"
     ]
    },
    {
     "name": "stdout",
     "output_type": "stream",
     "text": [
      "+----------+--------+\n",
      "|life_stage|avg(age)|\n",
      "+----------+--------+\n",
      "|     adult|    53.5|\n",
      "|     child|     3.0|\n",
      "|  teenager|    13.0|\n",
      "+----------+--------+\n",
      "\n"
     ]
    },
    {
     "name": "stderr",
     "output_type": "stream",
     "text": [
      "                                                                                \r"
     ]
    }
   ],
   "source": [
    "df1.groupBy(\"life_stage\").avg(\"age\").show()"
   ]
  },
  {
   "cell_type": "code",
   "execution_count": 17,
   "id": "7321ba07-64c2-45f0-9f90-ca266d200285",
   "metadata": {},
   "outputs": [
    {
     "name": "stderr",
     "output_type": "stream",
     "text": [
      "                                                                                \r"
     ]
    },
    {
     "name": "stdout",
     "output_type": "stream",
     "text": [
      "+----------+---+----------+\n",
      "|first_name|age|life_stage|\n",
      "+----------+---+----------+\n",
      "|        li|  3|     child|\n",
      "+----------+---+----------+\n",
      "\n"
     ]
    }
   ],
   "source": [
    "df4=df1.where((col(\"age\") > 0) & (col(\"life_stage\")=='child')).show()"
   ]
  },
  {
   "cell_type": "code",
   "execution_count": null,
   "id": "4282d989-519a-4c90-82a8-93173a097837",
   "metadata": {},
   "outputs": [],
   "source": [
    "spark.sql(\"select avg(age) from {x}\",x=df1).show()"
   ]
  },
  {
   "cell_type": "code",
   "execution_count": null,
   "id": "97486b8e-43fd-4d32-85a2-5e8f02758580",
   "metadata": {},
   "outputs": [],
   "source": [
    "df1.write.saveAsTable(\"some_people\")"
   ]
  },
  {
   "cell_type": "code",
   "execution_count": null,
   "id": "d9c87b6a-552a-41e8-af78-71e00eafe5dc",
   "metadata": {},
   "outputs": [],
   "source": [
    "spark.sql(\"select * from some_people\").show()"
   ]
  },
  {
   "cell_type": "code",
   "execution_count": null,
   "id": "8a99ff9d-4c83-4a26-90dd-bfc15f4238ee",
   "metadata": {},
   "outputs": [],
   "source": [
    "spark.sql(\"INSERT INTO some_people VALUES ('frank', 4, 'child')\")"
   ]
  },
  {
   "cell_type": "code",
   "execution_count": null,
   "id": "d8cd54db-dc38-4145-b395-d92e467a9c9d",
   "metadata": {},
   "outputs": [],
   "source": [
    "spark.sql(\"select * from some_people\").show()"
   ]
  },
  {
   "cell_type": "code",
   "execution_count": null,
   "id": "89a62204-67d5-4f41-8d2a-b2876ee6e8b0",
   "metadata": {},
   "outputs": [],
   "source": [
    "spark.sql(\"select * from some_people where life_stage='teenager'\").show()"
   ]
  },
  {
   "cell_type": "code",
   "execution_count": null,
   "id": "848ab2ca-0d18-4c24-9e64-2eff4ef226c9",
   "metadata": {},
   "outputs": [],
   "source": [
    "df = (\n",
    "    spark.readStream.format(\"kafka\")\n",
    "    .option(\"kafka.bootstrap.servers\",\"host1:port1,host2:port2\")\n",
    "    .option(\"subscribe\", subscribeTopic).load()\n",
    "    \n",
    ")"
   ]
  },
  {
   "cell_type": "code",
   "execution_count": null,
   "id": "586c0f20-5ed7-4065-8ab0-d2d9596bd7b7",
   "metadata": {},
   "outputs": [],
   "source": [
    "schema = StructType([\n",
    " StructField(\"student_name\", StringType()),\n",
    " StructField(\"graduation_year\", StringType()),\n",
    " StructField(\"major\", StringType()),\n",
    "])\n",
    "\n",
    "def with_normalized_names(df, schema):\n",
    "    parsed_df = (\n",
    "        df.withColumn(\"json_data\", from_json(col(\"value\").cast(\"string\"), schema))\n",
    "        .withColumn(\"student_name\", col(\"json_data.student_name\"))\n",
    "        .withColumn(\"graduation_year\", col(\"json_data.graduation_year\"))\n",
    "        .withColumn(\"major\", col(\"json_data.major\"))\n",
    "        .drop(col(\"json_data\"))\n",
    "        .drop(col(\"value\"))\n",
    "    )\n",
    "    split_col = split(parsed_df[\"student_name\"], \"XX\")\n",
    "    return (\n",
    "        parsed_df.withColumn(\"first_name\", split_col.getItem(0))\n",
    "        .withColumn(\"last_name\", split_col.getItem(1))\n",
    "        .drop(\"student_name\")\n",
    "    )\n"
   ]
  },
  {
   "cell_type": "code",
   "execution_count": null,
   "id": "af7c272a-03d5-449b-9625-3ce0ae13b598",
   "metadata": {},
   "outputs": [],
   "source": [
    "./bin/spark-submit examples/src/main/python/sql/streaming/structured_network_wordcount.py localhost 9999"
   ]
  },
  {
   "cell_type": "code",
   "execution_count": null,
   "id": "27700a17-897c-403a-9fe8-b953501121c4",
   "metadata": {},
   "outputs": [],
   "source": []
  }
 ],
 "metadata": {
  "kernelspec": {
   "display_name": "Python 3 (ipykernel)",
   "language": "python",
   "name": "python3"
  },
  "language_info": {
   "codemirror_mode": {
    "name": "ipython",
    "version": 3
   },
   "file_extension": ".py",
   "mimetype": "text/x-python",
   "name": "python",
   "nbconvert_exporter": "python",
   "pygments_lexer": "ipython3",
   "version": "3.11.7"
  }
 },
 "nbformat": 4,
 "nbformat_minor": 5
}
