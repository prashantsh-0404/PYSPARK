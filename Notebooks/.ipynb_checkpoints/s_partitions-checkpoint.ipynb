{
 "cells": [
  {
   "cell_type": "code",
   "execution_count": 1,
   "id": "801efc02-fb4c-4a14-a4c6-877eb11d8564",
   "metadata": {},
   "outputs": [
    {
     "data": {
      "text/plain": [
       "Intitializing Scala interpreter ..."
      ]
     },
     "metadata": {},
     "output_type": "display_data"
    },
    {
     "data": {
      "text/plain": [
       "Spark Web UI available at http://localhost:4041\n",
       "SparkContext available as 'sc' (version = 3.5.0, master = local[*], app id = local-1708142932745)\n",
       "SparkSession available as 'spark'\n"
      ]
     },
     "metadata": {},
     "output_type": "display_data"
    },
    {
     "data": {
      "text/plain": [
       "k: Int = 3\n"
      ]
     },
     "execution_count": 1,
     "metadata": {},
     "output_type": "execute_result"
    }
   ],
   "source": [
    "val k = 3\n"
   ]
  },
  {
   "cell_type": "code",
   "execution_count": 2,
   "id": "51a91f4b-bc30-4dd6-b608-3318bdfa75f1",
   "metadata": {},
   "outputs": [
    {
     "name": "stdout",
     "output_type": "stream",
     "text": [
      "+---+---+---+\n",
      "| _1| _2| _3|\n",
      "+---+---+---+\n",
      "|  1|  2|  3|\n",
      "|  4|  5|  6|\n",
      "|  6|  7|  8|\n",
      "|  9| 19| 10|\n",
      "+---+---+---+\n",
      "\n"
     ]
    },
    {
     "data": {
      "text/plain": [
       "data: Seq[(Int, Int, Int)] = List((1,2,3), (4,5,6), (6,7,8), (9,19,10))\n",
       "ds: org.apache.spark.sql.Dataset[(Int, Int, Int)] = [_1: int, _2: int ... 1 more field]\n"
      ]
     },
     "execution_count": 2,
     "metadata": {},
     "output_type": "execute_result"
    }
   ],
   "source": [
    "val data = Seq((1,2,3), (4,5,6), (6,7,8), (9,19,10))\n",
    "val ds = spark.createDataset(data)\n",
    "ds.show()"
   ]
  },
  {
   "cell_type": "code",
   "execution_count": 4,
   "id": "df7d0b92-ee67-4159-901b-0da2464e8e83",
   "metadata": {},
   "outputs": [
    {
     "data": {
      "text/plain": [
       "res2: Int = 4\n"
      ]
     },
     "execution_count": 4,
     "metadata": {},
     "output_type": "execute_result"
    }
   ],
   "source": [
    "ds.rdd.getNumPartitions"
   ]
  },
  {
   "cell_type": "code",
   "execution_count": 8,
   "id": "11a15781-4a91-42a9-9efe-5666314d10b6",
   "metadata": {},
   "outputs": [
    {
     "ename": "<console>",
     "evalue": "27: error: not found: type Employee",
     "output_type": "error",
     "traceback": [
      "<console>:27: error: not found: type Employee",
      "       for (index <- 1 to 10000){ val emp = new Employee (index, Random.nextInt (60), Random. nextDouble()*100000.0)}",
      "                                                ^",
      "<console>:27: error: not found: value Random",
      "       for (index <- 1 to 10000){ val emp = new Employee (index, Random.nextInt (60), Random. nextDouble()*100000.0)}",
      "                                                                 ^",
      "<console>:27: error: not found: value Random",
      "       for (index <- 1 to 10000){ val emp = new Employee (index, Random.nextInt (60), Random. nextDouble()*100000.0)}",
      "                                                                                      ^",
      ""
     ]
    }
   ],
   "source": [
    "df = spark.createDataset(path)"
   ]
  },
  {
   "cell_type": "code",
   "execution_count": null,
   "id": "51cef85a-0ee0-4324-92e9-e45cdfc66091",
   "metadata": {},
   "outputs": [],
   "source": []
  }
 ],
 "metadata": {
  "kernelspec": {
   "display_name": "spylon-kernel",
   "language": "scala",
   "name": "spylon-kernel"
  },
  "language_info": {
   "codemirror_mode": "text/x-scala",
   "file_extension": ".scala",
   "help_links": [
    {
     "text": "MetaKernel Magics",
     "url": "https://metakernel.readthedocs.io/en/latest/source/README.html"
    }
   ],
   "mimetype": "text/x-scala",
   "name": "scala",
   "pygments_lexer": "scala",
   "version": "0.4.1"
  }
 },
 "nbformat": 4,
 "nbformat_minor": 5
}
