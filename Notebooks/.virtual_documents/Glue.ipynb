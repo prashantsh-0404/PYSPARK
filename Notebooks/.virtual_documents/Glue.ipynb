import sys
from pyspark.context import SparkContext
from awsglue.context import GlueContext






