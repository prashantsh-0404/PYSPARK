{
 "cells": [
  {
   "cell_type": "code",
   "execution_count": 1,
   "id": "801efc02-fb4c-4a14-a4c6-877eb11d8564",
   "metadata": {},
   "outputs": [
    {
     "data": {
      "text/plain": [
       "Intitializing Scala interpreter ..."
      ]
     },
     "metadata": {},
     "output_type": "display_data"
    },
    {
     "data": {
      "text/plain": [
       "Spark Web UI available at http://localhost:4041\n",
       "SparkContext available as 'sc' (version = 3.5.0, master = local[*], app id = local-1708142932745)\n",
       "SparkSession available as 'spark'\n"
      ]
     },
     "metadata": {},
     "output_type": "display_data"
    },
    {
     "data": {
      "text/plain": [
       "k: Int = 3\n"
      ]
     },
     "execution_count": 1,
     "metadata": {},
     "output_type": "execute_result"
    }
   ],
   "source": [
    "val k = 3\n"
   ]
  },
  {
   "cell_type": "code",
   "execution_count": 2,
   "id": "51a91f4b-bc30-4dd6-b608-3318bdfa75f1",
   "metadata": {},
   "outputs": [
    {
     "name": "stdout",
     "output_type": "stream",
     "text": [
      "+---+---+---+\n",
      "| _1| _2| _3|\n",
      "+---+---+---+\n",
      "|  1|  2|  3|\n",
      "|  4|  5|  6|\n",
      "|  6|  7|  8|\n",
      "|  9| 19| 10|\n",
      "+---+---+---+\n",
      "\n"
     ]
    },
    {
     "data": {
      "text/plain": [
       "data: Seq[(Int, Int, Int)] = List((1,2,3), (4,5,6), (6,7,8), (9,19,10))\n",
       "ds: org.apache.spark.sql.Dataset[(Int, Int, Int)] = [_1: int, _2: int ... 1 more field]\n"
      ]
     },
     "execution_count": 2,
     "metadata": {},
     "output_type": "execute_result"
    }
   ],
   "source": [
    "val data = Seq((1,2,3), (4,5,6), (6,7,8), (9,19,10))\n",
    "val ds = spark.createDataset(data)\n",
    "ds.show()"
   ]
  },
  {
   "cell_type": "code",
   "execution_count": 4,
   "id": "df7d0b92-ee67-4159-901b-0da2464e8e83",
   "metadata": {},
   "outputs": [
    {
     "data": {
      "text/plain": [
       "res2: Int = 4\n"
      ]
     },
     "execution_count": 4,
     "metadata": {},
     "output_type": "execute_result"
    }
   ],
   "source": [
    "ds.rdd.getNumPartitions"
   ]
  },
  {
   "cell_type": "code",
   "execution_count": 9,
   "id": "11a15781-4a91-42a9-9efe-5666314d10b6",
   "metadata": {},
   "outputs": [
    {
     "data": {
      "text/plain": [
       "df: org.apache.spark.sql.DataFrame = [ForecastSiteCode: bigint, ObservationTime: bigint ... 13 more fields]\n"
      ]
     },
     "execution_count": 9,
     "metadata": {},
     "output_type": "execute_result"
    }
   ],
   "source": [
    "val df = spark.read.load(path=\"../Datasets/weather.2016.parquet\")"
   ]
  },
  {
   "cell_type": "code",
   "execution_count": 10,
   "id": "51cef85a-0ee0-4324-92e9-e45cdfc66091",
   "metadata": {},
   "outputs": [
    {
     "name": "stdout",
     "output_type": "stream",
     "text": [
      "+----------------+---------------+-------------------+-------------+---------+--------+----------+-----------------+--------+----------------------+--------------------+--------+---------+--------------------+--------+\n",
      "|ForecastSiteCode|ObservationTime|    ObservationDate|WindDirection|WindSpeed|WindGust|Visibility|ScreenTemperature|Pressure|SignificantWeatherCode|            SiteName|Latitude|Longitude|              Region| Country|\n",
      "+----------------+---------------+-------------------+-------------+---------+--------+----------+-----------------+--------+----------------------+--------------------+--------+---------+--------------------+--------+\n",
      "|            3002|              0|2016-02-01 00:00:00|           12|        8|    NULL|   30000.0|              2.1|   997.0|                     8|   BALTASOUND (3002)|  60.749|   -0.854|   Orkney & Shetland|SCOTLAND|\n",
      "|            3005|              0|2016-02-01 00:00:00|           10|        2|    NULL|   35000.0|              0.1|   997.0|                     7|LERWICK (S. SCREE...|  60.139|   -1.183|   Orkney & Shetland|SCOTLAND|\n",
      "|            3008|              0|2016-02-01 00:00:00|            8|        6|    NULL|   50000.0|              2.8|   997.0|                   -99|    FAIR ISLE (3008)|   59.53|    -1.63|   Orkney & Shetland|    NULL|\n",
      "|            3017|              0|2016-02-01 00:00:00|            6|        8|    NULL|   40000.0|              1.6|   996.0|                     8|     KIRKWALL (3017)|  58.954|     -2.9|   Orkney & Shetland|SCOTLAND|\n",
      "|            3023|              0|2016-02-01 00:00:00|           10|       30|    37.0|    2600.0|              9.8|   991.0|                    11|SOUTH UIST RANGE ...|  57.358|   -7.397|Highland & Eilean...|SCOTLAND|\n",
      "|            3026|              0|2016-02-01 00:00:00|            5|       15|    NULL|    3900.0|              4.3|   991.0|                    12|    STORNOWAY (3026)|  58.214|   -6.325|Highland & Eilean...|SCOTLAND|\n",
      "|            3031|              0|2016-02-01 00:00:00|            4|        9|    NULL|    5000.0|              1.1|   995.0|                    11|LOCH GLACARNOCH S...|  57.725|   -4.896|Highland & Eilean...|SCOTLAND|\n",
      "|            3034|              0|2016-02-01 00:00:00|            5|        7|    NULL|    5000.0|              3.1|   992.0|                    11|      AULTBEA (3034)|  57.859|   -5.636|Highland & Eilean...|SCOTLAND|\n",
      "|            3037|              0|2016-02-01 00:00:00|            8|       15|    NULL|    3400.0|              8.6|   993.0|                    15|SKYE/LUSA (SAMOS)...|  57.257|   -5.809|Highland & Eilean...|SCOTLAND|\n",
      "|            3039|              0|2016-02-01 00:00:00|            9|       32|    43.0|      NULL|              3.9|    NULL|                   -99|BEALACH NA BA (3039)|   57.42|    -5.69|Highland & Eilean...|    NULL|\n",
      "|            3041|              0|2016-02-01 00:00:00|           10|       44|    82.0|      NULL|              3.9|    NULL|                   -99|   AONACH MOR (3041)|   56.82|    -4.97|Highland & Eilean...|    NULL|\n",
      "|            3044|              0|2016-02-01 00:00:00|           12|        6|    NULL|   40000.0|              1.3|   994.0|                     8|ALTNAHARRA SAWS (...|  58.288|   -4.442|Highland & Eilean...|SCOTLAND|\n",
      "|            3047|              0|2016-02-01 00:00:00|            9|       15|    NULL|   10000.0|              4.8|   997.0|                    15|TULLOCH BRIDGE (3...|  56.867|   -4.708|Highland & Eilean...|SCOTLAND|\n",
      "|            3062|              0|2016-02-01 00:00:00|            6|        6|    NULL|    5000.0|              2.4|   995.0|                     9|   TAIN RANGE (3062)|   57.82|    -3.97|Highland & Eilean...|    NULL|\n",
      "|            3063|              0|2016-02-01 00:00:00|            9|        9|    22.0|   22000.0|              2.7|   996.0|                     9|     AVIEMORE (3063)|  57.206|   -3.827|Highland & Eilean...|SCOTLAND|\n",
      "|            3075|              0|2016-02-01 00:00:00|            7|       10|    NULL|   27000.0|              4.2|   996.0|                     8| WICK AIRPORT (3075)|  58.454|   -3.089|Highland & Eilean...|SCOTLAND|\n",
      "|            3066|              0|2016-02-01 00:00:00|            4|        5|    NULL|   12000.0|              2.8|   995.0|                    12|      KINLOSS (3066)| 57.6494|  -3.5606|            Grampian|SCOTLAND|\n",
      "|            3068|              0|2016-02-01 00:00:00|            6|        8|    NULL|   23000.0|              2.5|   996.0|                     8|  LOSSIEMOUTH (3068)|  57.712|   -3.322|            Grampian|SCOTLAND|\n",
      "|            3080|              0|2016-02-01 00:00:00|           12|        2|    NULL|   16000.0|              0.8|   998.0|                     7|       ABOYNE (3080)|  57.077|   -2.836|            Grampian|SCOTLAND|\n",
      "|            3088|              0|2016-02-01 00:00:00|            8|       17|    NULL|     400.0|              4.3|   998.0|                     6|  INVERBERVIE (3088)|   56.85|    -2.27|            Grampian|    NULL|\n",
      "+----------------+---------------+-------------------+-------------+---------+--------+----------+-----------------+--------+----------------------+--------------------+--------+---------+--------------------+--------+\n",
      "only showing top 20 rows\n",
      "\n"
     ]
    }
   ],
   "source": [
    "df.show()"
   ]
  },
  {
   "cell_type": "code",
   "execution_count": 14,
   "id": "889a046c-98fa-4f82-b364-b6ed4433b346",
   "metadata": {},
   "outputs": [
    {
     "data": {
      "text/plain": [
       "res4: Int = 1\n"
      ]
     },
     "execution_count": 14,
     "metadata": {},
     "output_type": "execute_result"
    }
   ],
   "source": [
    "df.rdd.getNumPartitions"
   ]
  },
  {
   "cell_type": "code",
   "execution_count": 13,
   "id": "a50d9000-a6e8-4706-bf2f-c8f49be3c868",
   "metadata": {},
   "outputs": [
    {
     "data": {
      "text/plain": [
       "res3: org.apache.spark.sql.Dataset[org.apache.spark.sql.Row] = [ForecastSiteCode: bigint, ObservationTime: bigint ... 13 more fields]\n"
      ]
     },
     "execution_count": 13,
     "metadata": {},
     "output_type": "execute_result"
    }
   ],
   "source": [
    "df.repartition(4)"
   ]
  },
  {
   "cell_type": "code",
   "execution_count": 18,
   "id": "0e134f20-fb54-45a1-966f-4db065cc15fc",
   "metadata": {},
   "outputs": [
    {
     "data": {
      "text/plain": [
       "wdf: org.apache.spark.sql.DataFrame = [Title: string, Description: string ... 15 more fields]\n"
      ]
     },
     "execution_count": 18,
     "metadata": {},
     "output_type": "execute_result"
    }
   ],
   "source": [
    "val wdf = spark.read.format(\"csv\").option(\"sep\",\",\").option(\"inferSchema\",\"true\").option(\"header\",\"true\").load(\"../Datasets/WineDataset.csv\")"
   ]
  },
  {
   "cell_type": "code",
   "execution_count": 23,
   "id": "82da6182-6c64-4172-8919-e04c4ed301b4",
   "metadata": {},
   "outputs": [],
   "source": [
    "wdf.write.format(\"parquet\").partitionBy(\"Country\").save(\"../Datasets/wine.parquet\")"
   ]
  },
  {
   "cell_type": "code",
   "execution_count": 19,
   "id": "5951d586-4a6d-4f92-8f64-0870d7848a6a",
   "metadata": {},
   "outputs": [
    {
     "data": {
      "text/plain": [
       "res5: Array[org.apache.spark.sql.Row] = Array([The Guv'nor, Spain,We asked some of our most prized winemakers working in Spain to make the best wines possible – no rules, no restrictions, no red tape. The Guv'nor collection was their answer. Made from Tempranillo grapes picked from their favourite vineyards across Spain, it’s a crowd-pleasing wine designed to be shared with good food – and even better company. It’s bold. It’s fruity. It’s a modern Spanish red that goes with everything, especially spicy barbecue meats or anything chargrilled.,£9.99 per bottle,75CL,Tempranillo,null,Natural Cork,Spain,10.5,Vanilla, Blackberry, Blackcurrant,per bottle,Red,ABV 14.00%,null,Rich & Juicy,NV,null], [Bread & Butter 'Winemaker's Selection' Chardonnay 2020/21, California,This really does what it sa...\n"
      ]
     },
     "execution_count": 19,
     "metadata": {},
     "output_type": "execute_result"
    }
   ],
   "source": [
    "wdf.collect()"
   ]
  },
  {
   "cell_type": "code",
   "execution_count": 21,
   "id": "9101b852-90c7-42d2-bfda-56cf7f7ff253",
   "metadata": {},
   "outputs": [
    {
     "name": "stdout",
     "output_type": "stream",
     "text": [
      "+--------------------+--------------------+-----------------+--------+-----------+-------------------------+------------+-------+----+--------------------+------------------------+-----+----------+----------+-------------+-------+-----------+\n",
      "|               Title|         Description|            Price|Capacity|      Grape|Secondary Grape Varieties|     Closure|Country|Unit|     Characteristics|Per bottle / case / each| Type|       ABV|    Region|        Style|Vintage|Appellation|\n",
      "+--------------------+--------------------+-----------------+--------+-----------+-------------------------+------------+-------+----+--------------------+------------------------+-----+----------+----------+-------------+-------+-----------+\n",
      "|  The Guv'nor, Spain|We asked some of ...| £9.99 per bottle|    75CL|Tempranillo|                     NULL|Natural Cork|  Spain|10.5|Vanilla, Blackber...|              per bottle|  Red|ABV 14.00%|      NULL| Rich & Juicy|     NV|       NULL|\n",
      "|Bread & Butter 'W...|This really does ...|£15.99 per bottle|    75CL| Chardonnay|                     NULL|Natural Cork|    USA|10.1|Vanilla, Almond, ...|              per bottle|White|ABV 13.50%|California|Rich & Toasty|   2021|Napa Valley|\n",
      "+--------------------+--------------------+-----------------+--------+-----------+-------------------------+------------+-------+----+--------------------+------------------------+-----+----------+----------+-------------+-------+-----------+\n",
      "only showing top 2 rows\n",
      "\n"
     ]
    }
   ],
   "source": [
    "wdf.show(2)"
   ]
  },
  {
   "cell_type": "code",
   "execution_count": 24,
   "id": "b85987d5-de3f-439e-a8b4-8aa217597673",
   "metadata": {},
   "outputs": [
    {
     "ename": "<console>",
     "evalue": "26: error: value bucketBy is not a member of org.apache.spark.sql.DataFrame",
     "output_type": "error",
     "traceback": [
      "<console>:26: error: value bucketBy is not a member of org.apache.spark.sql.DataFrame",
      "       wdf.bucketBy(\"Grape\")",
      "           ^",
      ""
     ]
    }
   ],
   "source": [
    "wdf.bucketBy(\"Grape\")"
   ]
  },
  {
   "cell_type": "code",
   "execution_count": 25,
   "id": "b607e5cb-5b03-4c2f-8f6b-551fcebeaad6",
   "metadata": {},
   "outputs": [
    {
     "data": {
      "text/plain": [
       "res10: Option[org.apache.spark.Partitioner] = None\n"
      ]
     },
     "execution_count": 25,
     "metadata": {},
     "output_type": "execute_result"
    }
   ],
   "source": [
    "wdf.rdd.partitioner"
   ]
  },
  {
   "cell_type": "code",
   "execution_count": 26,
   "id": "5277aa5a-79bf-4043-b4df-bb08ce3b5524",
   "metadata": {},
   "outputs": [
    {
     "data": {
      "text/plain": [
       "wdf2: org.apache.spark.sql.DataFrame = [Title: string, Description: string ... 15 more fields]\n"
      ]
     },
     "execution_count": 26,
     "metadata": {},
     "output_type": "execute_result"
    }
   ],
   "source": [
    "val wdf2 = spark.read.format(\"parquet\").option(\"inferSchema\",\"true\").option(\"header\",\"true\").load(\"../Datasets/wine.parquet/\")"
   ]
  },
  {
   "cell_type": "code",
   "execution_count": 27,
   "id": "de6e3ce5-ea60-4f65-8ba2-e0d3a9678d4f",
   "metadata": {},
   "outputs": [
    {
     "data": {
      "text/plain": [
       "res11: Int = 4\n"
      ]
     },
     "execution_count": 27,
     "metadata": {},
     "output_type": "execute_result"
    }
   ],
   "source": [
    "wdf2.rdd.getNumPartitions"
   ]
  },
  {
   "cell_type": "code",
   "execution_count": 28,
   "id": "0d95eed7-aeb8-4e30-9f96-993b99b1caee",
   "metadata": {},
   "outputs": [
    {
     "data": {
      "text/plain": [
       "res12: Option[org.apache.spark.Partitioner] = None\n"
      ]
     },
     "execution_count": 28,
     "metadata": {},
     "output_type": "execute_result"
    }
   ],
   "source": [
    "wdf2.rdd.partitioner"
   ]
  },
  {
   "cell_type": "code",
   "execution_count": 59,
   "id": "46ab58f6-2936-44ca-9b60-b7f3c90f4ce4",
   "metadata": {},
   "outputs": [],
   "source": [
    "wdf2.write.partitionBy(\"Country\").bucketBy(2,\"Region\").mode(\"overwrite\").option(\"path\",\"../Datasets/data/\").saveAsTable(\"wines\")"
   ]
  },
  {
   "cell_type": "code",
   "execution_count": 51,
   "id": "b6636620-fd24-4f8e-a6cd-4e20423a485c",
   "metadata": {},
   "outputs": [],
   "source": [
    "wdf2.write.bucketBy(2,\"Region\").mode(\"overwrite\").sortBy(\"Title\").saveAsTable(\"wines\")"
   ]
  },
  {
   "cell_type": "code",
   "execution_count": 49,
   "id": "672b6e7b-96bb-464a-9750-55077b118a25",
   "metadata": {},
   "outputs": [
    {
     "name": "stdout",
     "output_type": "stream",
     "text": [
      "+--------------------+--------------------+-----------------+--------+----------+-------------------------+------------+----+--------------------+------------------------+-----+----------+--------------------+--------------+-------+-----------+--------+\n",
      "|               Title|         Description|            Price|Capacity|     Grape|Secondary Grape Varieties|     Closure|Unit|     Characteristics|Per bottle / case / each| Type|       ABV|              Region|         Style|Vintage|Appellation| Country|\n",
      "+--------------------+--------------------+-----------------+--------+----------+-------------------------+------------+----+--------------------+------------------------+-----+----------+--------------------+--------------+-------+-----------+--------+\n",
      "|10 year old Malms...|This Madeira is m...|£22.99 per bottle|    50CL|  Malvasia|                     NULL|Natural Cork|  10|Walnut, Caramel, ...|              per bottle|White|ABV 20.00%|                NULL|          NULL|     NV|       NULL|Portugal|\n",
      "|Abbotts & Delauna...|If you love rich,...|             NULL|    NULL|      NULL|                     NULL|        NULL|NULL|                NULL|                    NULL| NULL|      NULL|                NULL|          NULL|   NULL|       NULL|    NULL|\n",
      "|Abbotts & Delauna...|Laurent Delaunay ...|£11.99 per bottle|    75CL|  Grenache|                     NULL|    Screwcap| 9.4|Citrus Fruit, Ras...|              per bottle| Rosé|ABV 12.50%|Languedoc-Roussillon|Delicate & Dry|   2021|       NULL|  France|\n",
      "|Abbotts & Delauna...|French Malbec is ...|£11.99 per bottle|    75CL|    Malbec|                     NULL|    Screwcap| 9.8|Black Fruit, Red ...|              per bottle|  Red|ABV 13.00%|Languedoc-Roussillon| Soft & Fruity|   2020|       NULL|  France|\n",
      "|Abbotts & Delauna...|If you’re seeking...|£19.99 per bottle|    75CL|Chardonnay|                     NULL|Natural Cork|10.1|Lemon, Peach, Ban...|              per bottle|White|ABV 13.50%|Languedoc-Roussillon| Rich & Toasty|   2021|  Pays D'Oc|  France|\n",
      "|Adega de Pegões ‘...|This elegant whit...|             NULL|    NULL|      NULL|                     NULL|        NULL|NULL|                NULL|                    NULL| NULL|      NULL|                NULL|          NULL|   NULL|       NULL|    NULL|\n",
      "+--------------------+--------------------+-----------------+--------+----------+-------------------------+------------+----+--------------------+------------------------+-----+----------+--------------------+--------------+-------+-----------+--------+\n",
      "\n"
     ]
    }
   ],
   "source": [
    "spark.sql(\"select * from wines limit 6\").show()"
   ]
  },
  {
   "cell_type": "code",
   "execution_count": null,
   "id": "537239e1-bf26-45d6-8991-2ed7d81cb28b",
   "metadata": {},
   "outputs": [],
   "source": [
    "hrdf = spark.read.format(\"json\").option(\"path\",\"~/Datasets/endomondoHR.json\")"
   ]
  },
  {
   "cell_type": "code",
   "execution_count": 60,
   "id": "0061bc0b-1a4a-4e8d-bb51-43ad45b07e1e",
   "metadata": {},
   "outputs": [
    {
     "data": {
      "text/plain": [
       "res32: String = 134217728b\n"
      ]
     },
     "execution_count": 60,
     "metadata": {},
     "output_type": "execute_result"
    }
   ],
   "source": [
    "spark.conf.get(\"spark.sql.files.maxPartitionBytes\")"
   ]
  },
  {
   "cell_type": "code",
   "execution_count": 63,
   "id": "dd69f9d2-ea39-49a3-8bfa-0dd15b4f71ed",
   "metadata": {},
   "outputs": [
    {
     "data": {
      "text/plain": [
       "res35: Int = 4\n"
      ]
     },
     "execution_count": 63,
     "metadata": {},
     "output_type": "execute_result"
    }
   ],
   "source": [
    "spark.sparkContext.defaultParallelism"
   ]
  },
  {
   "cell_type": "code",
   "execution_count": 65,
   "id": "768a4d55-a127-4cc5-b6d8-65aea003c13d",
   "metadata": {},
   "outputs": [
    {
     "ename": "<console>",
     "evalue": "2: error: . expected",
     "output_type": "error",
     "traceback": [
      "<console>:2: error: . expected",
      "       import os",
      "                ^",
      "<console>:3: error: ')' expected but '.' found.",
      "       val file_size = os.path.getsize('~/Datasets/endomondoHR.json')",
      "                                                              ^",
      "<console>:3: error: unclosed character literal (or use \" not ' for string literal)",
      "       val file_size = os.path.getsize('~/Datasets/endomondoHR.json')",
      "                                                                   ^",
      ""
     ]
    }
   ],
   "source": []
  },
  {
   "cell_type": "code",
   "execution_count": null,
   "id": "471b9b41-66a0-4473-85c7-27c1eb0ea68d",
   "metadata": {},
   "outputs": [],
   "source": []
  }
 ],
 "metadata": {
  "kernelspec": {
   "display_name": "spylon-kernel",
   "language": "scala",
   "name": "spylon-kernel"
  },
  "language_info": {
   "codemirror_mode": "text/x-scala",
   "file_extension": ".scala",
   "help_links": [
    {
     "text": "MetaKernel Magics",
     "url": "https://metakernel.readthedocs.io/en/latest/source/README.html"
    }
   ],
   "mimetype": "text/x-scala",
   "name": "scala",
   "pygments_lexer": "scala",
   "version": "0.4.1"
  }
 },
 "nbformat": 4,
 "nbformat_minor": 5
}
