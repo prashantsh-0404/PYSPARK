{
 "cells": [
  {
   "cell_type": "code",
   "execution_count": 1,
   "id": "a3374ff5-8865-4f0b-9b72-e85a6719ce77",
   "metadata": {},
   "outputs": [
    {
     "name": "stderr",
     "output_type": "stream",
     "text": [
      "Setting default log level to \"WARN\".\n",
      "To adjust logging level use sc.setLogLevel(newLevel). For SparkR, use setLogLevel(newLevel).\n",
      "24/02/02 10:23:45 WARN NativeCodeLoader: Unable to load native-hadoop library for your platform... using builtin-java classes where applicable\n"
     ]
    }
   ],
   "source": [
    "from pyspark.sql import SparkSession \n",
    "\n",
    "spark = SparkSession.builder.getOrCreate()\n"
   ]
  },
  {
   "cell_type": "code",
   "execution_count": 2,
   "id": "7de06559-6fab-4b79-aa16-7244726c5a37",
   "metadata": {},
   "outputs": [
    {
     "name": "stderr",
     "output_type": "stream",
     "text": [
      "                                                                                \r"
     ]
    }
   ],
   "source": [
    "df = spark.read.json(\"/usr/local/Cellar/apache-spark/3.5.0/libexec/examples/src/main/resources/people.json\")"
   ]
  },
  {
   "cell_type": "code",
   "execution_count": 8,
   "id": "bbc64fc9-fb10-4c7e-b671-cb392fd60bea",
   "metadata": {},
   "outputs": [
    {
     "name": "stderr",
     "output_type": "stream",
     "text": [
      "                                                                                \r"
     ]
    }
   ],
   "source": [
    "df.write.parquet(\"~/Desktop/people.parquet\")"
   ]
  },
  {
   "cell_type": "code",
   "execution_count": 3,
   "id": "ef49e4d6-0efe-464d-aaa2-fdeba4643538",
   "metadata": {},
   "outputs": [
    {
     "name": "stderr",
     "output_type": "stream",
     "text": [
      "                                                                                \r"
     ]
    }
   ],
   "source": [
    "dfp = spark.read.parquet(\"~/Desktop/people.parquet\")"
   ]
  },
  {
   "cell_type": "code",
   "execution_count": 4,
   "id": "bb56b177-62e8-49c2-856d-8712f6b7cb86",
   "metadata": {},
   "outputs": [
    {
     "name": "stderr",
     "output_type": "stream",
     "text": [
      "[Stage 2:>                                                          (0 + 1) / 1]\r"
     ]
    },
    {
     "name": "stdout",
     "output_type": "stream",
     "text": [
      "+----+-------+\n",
      "| age|   name|\n",
      "+----+-------+\n",
      "|NULL|Michael|\n",
      "|  30|   Andy|\n",
      "|  19| Justin|\n",
      "+----+-------+\n",
      "\n"
     ]
    },
    {
     "name": "stderr",
     "output_type": "stream",
     "text": [
      "                                                                                \r"
     ]
    }
   ],
   "source": [
    "dfp.show()"
   ]
  },
  {
   "cell_type": "code",
   "execution_count": 5,
   "id": "2c1f745c-50ec-4d1f-8995-07ce1ab51a5f",
   "metadata": {},
   "outputs": [],
   "source": [
    "dfp.createOrReplaceTempView(\"people\")"
   ]
  },
  {
   "cell_type": "code",
   "execution_count": 6,
   "id": "76cc1c54-e69c-4dcb-818b-6e538c6f2822",
   "metadata": {},
   "outputs": [
    {
     "name": "stdout",
     "output_type": "stream",
     "text": [
      "+----+-------+\n",
      "| age|   name|\n",
      "+----+-------+\n",
      "|NULL|Michael|\n",
      "|  30|   Andy|\n",
      "|  19| Justin|\n",
      "+----+-------+\n",
      "\n"
     ]
    }
   ],
   "source": [
    "spark.sql(\"select * from people\").show()"
   ]
  },
  {
   "cell_type": "code",
   "execution_count": 8,
   "id": "8f5f5430-a5c1-48f3-833e-03fb574233fa",
   "metadata": {},
   "outputs": [],
   "source": [
    "from pyspark.sql import Row\n",
    "sc = spark.sparkContext"
   ]
  },
  {
   "cell_type": "code",
   "execution_count": 9,
   "id": "22a9957e-120d-4cdb-86af-4c4dc9c05c47",
   "metadata": {},
   "outputs": [
    {
     "name": "stderr",
     "output_type": "stream",
     "text": [
      "                                                                                \r"
     ]
    }
   ],
   "source": [
    "df2 = spark.createDataFrame(sc.parallelize(range(1,6)) \\\n",
    "                            .map(lambda i: Row(single=i, double=i**2)))"
   ]
  },
  {
   "cell_type": "code",
   "execution_count": 49,
   "id": "32d0723b-aa1a-4a4c-9f3d-2e2f22f521ce",
   "metadata": {},
   "outputs": [],
   "source": [
    "df2.write.parquet(\"data/table/key=1\")"
   ]
  },
  {
   "cell_type": "code",
   "execution_count": 10,
   "id": "2a24f49c-7a47-4a46-9aaf-436dc3ece4e1",
   "metadata": {},
   "outputs": [],
   "source": [
    "df3 = spark.createDataFrame(sc.parallelize(range(6,11)).map(lambda i: Row(single=i, triple= i**3)))"
   ]
  },
  {
   "cell_type": "code",
   "execution_count": 50,
   "id": "0411a0f7-6ad6-417f-b191-d92dc62c1f69",
   "metadata": {},
   "outputs": [],
   "source": [
    "df3.write.parquet(\"data/table/key=3\")"
   ]
  },
  {
   "cell_type": "code",
   "execution_count": 11,
   "id": "e2b2a8e9-70e9-4b73-9d88-8453a34d3503",
   "metadata": {},
   "outputs": [
    {
     "name": "stdout",
     "output_type": "stream",
     "text": [
      "root\n",
      " |-- single: long (nullable = true)\n",
      " |-- triple: long (nullable = true)\n",
      "\n"
     ]
    }
   ],
   "source": [
    "df3.printSchema()"
   ]
  },
  {
   "cell_type": "code",
   "execution_count": 15,
   "id": "95e001ad-0999-4afd-a4ad-fa07ba944757",
   "metadata": {},
   "outputs": [],
   "source": [
    "merged_df = spark.read.option(\"mergeSchema\", \"true\").parquet(\"data/table\")"
   ]
  },
  {
   "cell_type": "code",
   "execution_count": 13,
   "id": "8cf2d7da-6591-455d-bc80-b6828d441c4a",
   "metadata": {},
   "outputs": [
    {
     "name": "stdout",
     "output_type": "stream",
     "text": [
      "+------+------+------+---+\n",
      "|single|double|triple|key|\n",
      "+------+------+------+---+\n",
      "|     9|  NULL|   729|  3|\n",
      "|    10|  NULL|  1000|  3|\n",
      "|     4|    16|  NULL|  1|\n",
      "|     5|    25|  NULL|  1|\n",
      "|     6|  NULL|   216|  3|\n",
      "|     7|  NULL|   343|  3|\n",
      "|     3|     9|  NULL|  1|\n",
      "|     1|     1|  NULL|  1|\n",
      "|     2|     4|  NULL|  1|\n",
      "|     8|  NULL|   512|  3|\n",
      "+------+------+------+---+\n",
      "\n"
     ]
    }
   ],
   "source": [
    "merged_df.show()"
   ]
  },
  {
   "cell_type": "code",
   "execution_count": 16,
   "id": "22876571-1f48-4c0e-b352-ded2fcf3ba73",
   "metadata": {},
   "outputs": [
    {
     "name": "stdout",
     "output_type": "stream",
     "text": [
      "root\n",
      " |-- single: long (nullable = true)\n",
      " |-- double: long (nullable = true)\n",
      " |-- triple: long (nullable = true)\n",
      " |-- key: integer (nullable = true)\n",
      "\n"
     ]
    }
   ],
   "source": [
    "merged_df.printSchema()"
   ]
  },
  {
   "cell_type": "code",
   "execution_count": null,
   "id": "cb251e97-42a5-40df-8359-6cf009d5fc55",
   "metadata": {},
   "outputs": [],
   "source": []
  }
 ],
 "metadata": {
  "kernelspec": {
   "display_name": "Python 3 (ipykernel)",
   "language": "python",
   "name": "python3"
  },
  "language_info": {
   "codemirror_mode": {
    "name": "ipython",
    "version": 3
   },
   "file_extension": ".py",
   "mimetype": "text/x-python",
   "name": "python",
   "nbconvert_exporter": "python",
   "pygments_lexer": "ipython3",
   "version": "3.11.7"
  }
 },
 "nbformat": 4,
 "nbformat_minor": 5
}
